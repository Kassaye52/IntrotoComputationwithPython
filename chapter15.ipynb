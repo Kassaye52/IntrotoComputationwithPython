{
 "cells": [
  {
   "cell_type": "markdown",
   "metadata": {},
   "source": [
    "### 15. UNDERSTANDING EXPERIMENTAL DATA"
   ]
  },
  {
   "cell_type": "code",
   "execution_count": 1,
   "metadata": {},
   "outputs": [],
   "source": [
    "def getData(fileName):\n",
    "    dataFile = open(fileName, 'r')\n",
    "    distances = []\n",
    "    masses = []\n",
    "    discardHeader = dataFile.readline()\n",
    "    for line in dataFile:\n",
    "        d, m = line.split(' ')\n",
    "        distances.append(float(d))\n",
    "        masses.append(float(m))\n",
    "    dataFile.close()\n",
    "    return (masses, distances)"
   ]
  },
  {
   "cell_type": "code",
   "execution_count": 2,
   "metadata": {},
   "outputs": [],
   "source": [
    "def plotData(inputFile):\n",
    "    masses, distances = getData(inputFile)\n",
    "    masses = pylab.array(masses)\n",
    "    distances = pylab.array(distances)\n",
    "    forces = masses*9.81\n",
    "    pylab.plot(forces, distances, 'bo',\n",
    "    label = 'Measured displacements')\n",
    "    pylab.title('Measured Displacement of Spring')\n",
    "    pylab.xlabel('|Force| (Newtons)')\n",
    "    pylab.ylabel('Distance (meters)')"
   ]
  },
  {
   "cell_type": "code",
   "execution_count": 3,
   "metadata": {},
   "outputs": [],
   "source": [
    "def fitData(inputFile):\n",
    "    masses, distances = getData(inputFile)\n",
    "    distances = pylab.array(distances)\n",
    "    masses = pylab.array(masses)\n",
    "    forces = masses*9.81\n",
    "    pylab.plot(forces, distances, 'bo',\n",
    "    label = 'Measured displacements')\n",
    "    pylab.title('Measured Displacement of Spring')\n",
    "    pylab.xlabel('|Force| (Newtons)')\n",
    "    pylab.ylabel('Distance (meters)')\n",
    "    #find linear fit\n",
    "    a,b = pylab.polyfit(forces, distances, 1)\n",
    "    predictedDistances = a*pylab.array(forces) + b\n",
    "    k = 1.0/a\n",
    "    pylab.plot(forces, predictedDistances,\n",
    "    label = 'Displacements predicted by\\nlinear fit, k = '\n",
    "    + str(round(k, 5)))\n",
    "    pylab.legend(loc = 'best')"
   ]
  },
  {
   "cell_type": "code",
   "execution_count": 6,
   "metadata": {},
   "outputs": [],
   "source": [
    "def getTrajectoryData(fileName):\n",
    "    dataFile = open(fileName, 'r')\n",
    "    distances = []\n",
    "    heights1, heights2, heights3, heights4 = [],[],[],[]\n",
    "    discardHeader = dataFile.readline()\n",
    "    for line in dataFile:\n",
    "        d, h1, h2, h3, h4 = line.split()\n",
    "        distances.append(float(d))\n",
    "        heights1.append(float(h1))\n",
    "        heights2.append(float(h2))\n",
    "        heights3.append(float(h3))\n",
    "        heights4.append(float(h4))\n",
    "    dataFile.close()\n",
    "    return (distances, [heights1, heights2, heights3, heights4])\n",
    "\n",
    "def processTrajectories(fileName):\n",
    "    distances, heights = getTrajectoryData(fileName)\n",
    "    numTrials = len(heights)\n",
    "    distances = pylab.array(distances)\n",
    "    #Get array containing mean height at each distance\n",
    "    totHeights = pylab.array([0]*len(distances))\n",
    "    for h in heights:\n",
    "        totHeights = totHeights + pylab.array(h)\n",
    "    meanHeights = totHeights/len(heights)\n",
    "    pylab.title('Trajectory of Projectile (Mean of '\\\n",
    "    + str(numTrials) + ' Trials)')\n",
    "    pylab.xlabel('Inches from Launch Point')\n",
    "    pylab.ylabel('Inches Above Launch Point')\n",
    "    pylab.plot(distances, meanHeights, 'bo')\n",
    "    a,b = pylab.polyfit(distances, meanHeights, 1)\n",
    "    altitudes = a*distances + b\n",
    "    pylab.plot(distances, altitudes, 'b', label = 'Linear Fit')\n",
    "    a,b,c = pylab.polyfit(distances, meanHeights, 2)\n",
    "    altitudes = a*(distances**2) + b*distances + c\n",
    "    pylab.plot(distances, altitudes, 'b:', label = 'Quadratic Fit')\n",
    "    pylab.legend()"
   ]
  },
  {
   "cell_type": "code",
   "execution_count": 7,
   "metadata": {},
   "outputs": [],
   "source": [
    "def rSquared(measured, predicted):\n",
    "    \"\"\"Assumes measured a one-dimensional array of measured values\n",
    "    predicted a one-dimensional array of predicted values\n",
    "    Returns coefficient of determination\"\"\"\n",
    "    estimateError = ((predicted - measured)**2).sum()\n",
    "    meanOfMeasured = measured.sum()/float(len(measured))\n",
    "    variability = ((measured - meanOfMeasured)**2).sum()\n",
    "    return 1 - estimateError/variability"
   ]
  },
  {
   "cell_type": "code",
   "execution_count": 9,
   "metadata": {},
   "outputs": [],
   "source": [
    "def getHorizontalSpeed(a, b, c, minX, maxX):\n",
    "    \"\"\"Assumes minX and maxX are distances in inches\n",
    "    Returns horizontal speed in feet per second\"\"\"\n",
    "    inchesPerFoot = 12.0\n",
    "    xMid = (maxX - minX)/2.0\n",
    "    yPeak = a*xMid**2 + b*xMid + c\n",
    "    g = 32.16*inchesPerFoot #accel. of gravity in inches/sec/sec\n",
    "    t = (2*yPeak/g)**0.5\n",
    "    print('Horizontal speed =', int(xMid/(t*inchesPerFoot)), 'feet/sec')"
   ]
  },
  {
   "cell_type": "code",
   "execution_count": 11,
   "metadata": {},
   "outputs": [
    {
     "data": {
      "text/plain": [
       "<matplotlib.legend.Legend at 0x7f85485723a0>"
      ]
     },
     "execution_count": 11,
     "metadata": {},
     "output_type": "execute_result"
    },
    {
     "data": {
      "image/png": "[encoded data removed]",
      "text/plain": [
       "<Figure size 432x288 with 1 Axes>"
      ]
     },
     "metadata": {
      "needs_background": "light"
     },
     "output_type": "display_data"
    }
   ],
   "source": [
    "import pylab\n",
    "vals = []\n",
    "for i in range(10):\n",
    "    vals.append(2**i)\n",
    "pylab.plot(vals,'bo', label = 'Actual points')\n",
    "xVals = pylab.arange(10)\n",
    "a,b,c,d,e = pylab.polyfit(xVals, vals, 4)\n",
    "yVals = a*(xVals**4) + b*(xVals**3) + c*(xVals**2)+ d*xVals + e\n",
    "pylab.plot(yVals, 'bx', label = 'Predicted points', markersize = 20)\n",
    "pylab.title('Fitting y = 2**x')\n",
    "pylab.legend()  "
   ]
  },
  {
   "cell_type": "code",
   "execution_count": 12,
   "metadata": {},
   "outputs": [
    {
     "name": "stdout",
     "output_type": "stream",
     "text": [
      "Model predicts that 2**20 is roughly 29796\n",
      "Actual value of 2**20 is 1048576\n"
     ]
    }
   ],
   "source": [
    "pred2to20 = a*(20**4) + b*(20**3) + c*(20**2)+ d*20 + e\n",
    "print('Model predicts that 2**20 is roughly', round(pred2to20))\n",
    "print('Actual value of 2**20 is', 2**20)"
   ]
  },
  {
   "cell_type": "code",
   "execution_count": 13,
   "metadata": {},
   "outputs": [
    {
     "data": {
      "text/plain": [
       "[]"
      ]
     },
     "execution_count": 13,
     "metadata": {},
     "output_type": "execute_result"
    },
    {
     "data": {
      "image/png": "[encoded data removed]",
      "text/plain": [
       "<Figure size 432x288 with 1 Axes>"
      ]
     },
     "metadata": {
      "needs_background": "light"
     },
     "output_type": "display_data"
    }
   ],
   "source": [
    "xVals, yVals = [], []\n",
    "for i in range(10):\n",
    "    xVals.append(i)\n",
    "    yVals.append(2**i)\n",
    "pylab.plot(xVals, yVals)\n",
    "pylab.semilogy()"
   ]
  },
  {
   "cell_type": "code",
   "execution_count": 16,
   "metadata": {},
   "outputs": [
    {
     "name": "stdout",
     "output_type": "stream",
     "text": [
      "f(20) = 50331648.0\n",
      "Predicted f(20) = 50331647.999999814\n"
     ]
    },
    {
     "data": {
      "image/png": "[encoded data removed]",
      "text/plain": [
       "<Figure size 432x288 with 1 Axes>"
      ]
     },
     "metadata": {
      "needs_background": "light"
     },
     "output_type": "display_data"
    }
   ],
   "source": [
    "import math\n",
    "#define an arbitrary exponential function\n",
    "def f(x):\n",
    "    return 3*(2**(1.2*x))\n",
    "def createExpData(f, xVals):\n",
    "    \"\"\"Asssumes f is an exponential function of one argument\n",
    "    xVals is an array of suitable arguments for f\n",
    "    Returns array containing results of applying f to the\n",
    "    elements of xVals\"\"\"\n",
    "    yVals = []\n",
    "    for i in range(len(xVals)):\n",
    "        yVals.append(f(xVals[i]))\n",
    "    return pylab.array(xVals), pylab.array(yVals)\n",
    "\n",
    "def fitExpData(xVals, yVals):\n",
    "    \"\"\"Assumes xVals and yVals arrays of numbers such that\n",
    "    yVals[i] == f(xVals[i])\n",
    "    Returns a, b, base such that log(f(x), base) == ax + b\"\"\"\n",
    "    logVals = []\n",
    "    for y in yVals:\n",
    "        logVals.append(math.log(y, 2.0)) #get log base 2\n",
    "    a,b = pylab.polyfit(xVals, logVals, 1)\n",
    "    return a, b, 2.0\n",
    "xVals, yVals = createExpData(f, range(10))\n",
    "pylab.plot(xVals, yVals, 'ro', label = 'Actual values')\n",
    "a, b, base = fitExpData(xVals, yVals)\n",
    "predictedYVals = []\n",
    "for x in xVals:\n",
    "    predictedYVals.append(base**(a*x + b))\n",
    "pylab.plot(xVals, predictedYVals, label = 'Predicted values')\n",
    "pylab.title('Fitting an Exponential Function')\n",
    "pylab.legend()\n",
    "#Look at a value for x not in original data\n",
    "print ('f(20) =', f(20))\n",
    "print ('Predicted f(20) =', base**(a*20 + b))"
   ]
  },
  {
   "cell_type": "code",
   "execution_count": null,
   "metadata": {},
   "outputs": [],
   "source": []
  }
 ],
 "metadata": {
  "kernelspec": {
   "display_name": "base",
   "language": "python",
   "name": "python3"
  },
  "language_info": {
   "codemirror_mode": {
    "name": "ipython",
    "version": 3
   },
   "file_extension": ".py",
   "mimetype": "text/x-python",
   "name": "python",
   "nbconvert_exporter": "python",
   "pygments_lexer": "ipython3",
   "version": "3.9.7"
  }
 },
 "nbformat": 4,
 "nbformat_minor": 2
}
