{
 "cells": [
  {
   "cell_type": "markdown",
   "metadata": {},
   "source": [
    "### 19. A QUICK LOOK AT MACHINE LEARNING"
   ]
  },
  {
   "cell_type": "code",
   "execution_count": 1,
   "metadata": {},
   "outputs": [],
   "source": [
    "def minkowskiDist(v1, v2, p):\n",
    "    \"\"\"Assumes v1 and v2 are equal-length arrays of numbers\n",
    "    Returns Minkowski distance of order p between v1 and v2\"\"\"\n",
    "    dist = 0.0\n",
    "    for i in range(len(v1)):\n",
    "        dist += abs(v1[i] - v2[i])**p\n",
    "    return dist**(1.0/p)"
   ]
  },
  {
   "cell_type": "code",
   "execution_count": 4,
   "metadata": {},
   "outputs": [],
   "source": [
    "import pylab\n",
    "class Animal(object):\n",
    "    def __init__(self, name, features):\n",
    "        \"\"\"Assumes name a string; features a list of numbers\"\"\"\n",
    "        self.name = name\n",
    "        self.features = pylab.array(features)\n",
    "    def getName(self):\n",
    "        return self.name\n",
    "    def getFeatures(self):\n",
    "        return self.features\n",
    "    def distance(self, other):\n",
    "        \"\"\"Assumes other an animal\n",
    "        Returns the Euclidean distance between feature vectors\n",
    "        of self and other\"\"\"\n",
    "        return minkowskiDist(self.getFeatures(), other.getFeatures(), 2)"
   ]
  },
  {
   "cell_type": "code",
   "execution_count": 5,
   "metadata": {},
   "outputs": [],
   "source": [
    "def compareAnimals(animals, precision):\n",
    "    \"\"\"Assumes animals is a list of animals, precision an int >= 0\n",
    "    Builds a table of Euclidean distance between each animal\"\"\"\n",
    "    #Get labels for columns and rows\n",
    "    columnLabels = []\n",
    "    for a in animals:\n",
    "        columnLabels.append(a.getName())\n",
    "    rowLabels = columnLabels[:]\n",
    "    tableVals = []\n",
    "    #Get distances between pairs of animals\n",
    "    #For each row\n",
    "    for a1 in animals:\n",
    "        row = []\n",
    "        #For each column\n",
    "        for a2 in animals:\n",
    "            if a1 == a2:\n",
    "                row.append('--')\n",
    "            else:\n",
    "                distance = a1.distance(a2)\n",
    "                row.append(str(round(distance, precision)))\n",
    "        tableVals.append(row)\n",
    "    #Produce table\n",
    "    table = pylab.table(rowLabels = rowLabels,\n",
    "            colLabels = columnLabels,\n",
    "            cellText = tableVals,\n",
    "            cellLoc = 'center',\n",
    "            loc = 'center',\n",
    "            colWidths = [0.2]*len(animals))\n",
    "            \n",
    "    table.scale(1, 2.5)\n",
    "    pylab.axis('off') #Don't display x and y-axes\n",
    "    pylab.savefig('distances')"
   ]
  },
  {
   "cell_type": "code",
   "execution_count": 6,
   "metadata": {},
   "outputs": [
    {
     "data": {
      "image/png": "[encoded data removed]",
      "text/plain": [
       "<Figure size 432x288 with 1 Axes>"
      ]
     },
     "metadata": {
      "needs_background": "light"
     },
     "output_type": "display_data"
    }
   ],
   "source": [
    "rattlesnake = Animal('rattlesnake', [1,1,1,1,0])\n",
    "boa = Animal('boa\\nconstrictor', [0,1,0,1,0])\n",
    "dartFrog = Animal('dart frog', [1,0,1,0,4])\n",
    "animals = [rattlesnake, boa, dartFrog]\n",
    "compareAnimals(animals, 3)"
   ]
  },
  {
   "cell_type": "code",
   "execution_count": 8,
   "metadata": {},
   "outputs": [
    {
     "data": {
      "image/png": "[encoded data removed]",
      "text/plain": [
       "<Figure size 432x288 with 1 Axes>"
      ]
     },
     "metadata": {
      "needs_background": "light"
     },
     "output_type": "display_data"
    }
   ],
   "source": [
    "alligator = Animal('alligator', [1,1,0,1,4])\n",
    "animals.append(alligator)\n",
    "compareAnimals(animals, 3)"
   ]
  },
  {
   "cell_type": "code",
   "execution_count": 9,
   "metadata": {},
   "outputs": [],
   "source": [
    "class Example(object):\n",
    "    def __init__(self, name, features, label = None):\n",
    "        #Assumes features is an array of numbers\n",
    "        self.name = name\n",
    "        self.features = features\n",
    "        self.label = label\n",
    "    def dimensionality(self):\n",
    "        return len(self.features)\n",
    "    def getFeatures(self):\n",
    "        return self.features[:]\n",
    "    def getLabel(self):\n",
    "        return self.label\n",
    "    def getName(self):\n",
    "        return self.name\n",
    "    def distance(self, other):\n",
    "        return minkowskiDist(self.features, other.getFeatures(), 2)\n",
    "    def __str__(self):\n",
    "        return self.name +':'+ str(self.features) + ':' + str(self.label)"
   ]
  },
  {
   "cell_type": "code",
   "execution_count": 10,
   "metadata": {},
   "outputs": [],
   "source": [
    "class Cluster(object):\n",
    "    def __init__(self, examples, exampleType):\n",
    "        \"\"\"Assumes examples is a list of example of type exampleType\"\"\"\n",
    "        self.examples = examples\n",
    "        self.exampleType = exampleType\n",
    "        self.centroid = self.computeCentroid()\n",
    "    def update(self, examples):\n",
    "        \"\"\"Replace the examples in the cluster by new examples\n",
    "        Return how much the centroid has changed\"\"\"\n",
    "        oldCentroid = self.centroid\n",
    "        self.examples = examples\n",
    "        if len(examples) > 0:\n",
    "            self.centroid = self.computeCentroid()\n",
    "            return oldCentroid.distance(self.centroid)\n",
    "        else:\n",
    "            return 0.0\n",
    "    def members(self):\n",
    "        for e in self.examples:\n",
    "            yield e\n",
    "    def size(self):\n",
    "        return len(self.examples)\n",
    "    def getCentroid(self):\n",
    "        return self.centroid\n",
    "    def computeCentroid(self):\n",
    "        dim = self.examples[0].dimensionality()\n",
    "        totVals = pylab.array([0.0]*dim)\n",
    "        for e in self.examples:\n",
    "            totVals += e.getFeatures()\n",
    "        centroid = self.exampleType('centroid',\n",
    "        totVals/float(len(self.examples)))\n",
    "        return centroid\n",
    "    def variance(self):\n",
    "        totDist = 0.0\n",
    "        for e in self.examples:\n",
    "            totDist += (e.distance(self.centroid))**2\n",
    "        return totDist**0.5\n",
    "    def __str__(self):\n",
    "        names = []\n",
    "        for e in self.examples:\n",
    "            names.append(e.getName())\n",
    "        names.sort()\n",
    "        result = 'Cluster with centroid '\\\n",
    "        + str(self.centroid.getFeatures()) + ' contains:\\n '\n",
    "        for e in names:\n",
    "            result = result + e + ', '\n",
    "        return result[:-2]"
   ]
  },
  {
   "cell_type": "code",
   "execution_count": 13,
   "metadata": {},
   "outputs": [],
   "source": [
    "def kmeans(examples, exampleType, k, verbose):\n",
    "    \"\"\"Assumes examples is a list of examples of type exampleType,\n",
    "    k is a positive int, verbose is a Boolean\n",
    "    Returns a list containing k clusters. If verbose is\n",
    "    True it prints result of each iteration of k-means\"\"\"\n",
    "    #Get k randomly chosen initial centroids\n",
    "    initialCentroids = random.sample(examples, k)\n",
    "    #Create a singleton cluster for each centroid\n",
    "    clusters = []\n",
    "    for e in initialCentroids:\n",
    "        clusters.append(Cluster([e], exampleType))\n",
    "    #Iterate until centroids do not change\n",
    "    converged = False\n",
    "    numIterations = 0\n",
    "    while not converged:\n",
    "        numIterations += 1\n",
    "        #Create a list containing k distinct empty lists\n",
    "        newClusters = []\n",
    "        for i in range(k):\n",
    "            newClusters.append([])\n",
    "        #Associate each example with closest centroid\n",
    "        for e in examples:\n",
    "            #Find the centroid closest to e\n",
    "            smallestDistance = e.distance(clusters[0].getCentroid())\n",
    "            index = 0\n",
    "            for i in range(1, k):\n",
    "                distance = e.distance(clusters[i].getCentroid())\n",
    "            if distance < smallestDistance:\n",
    "                smallestDistance = distance\n",
    "                index = i\n",
    "            #Add e to the list of examples for the appropriate cluster\n",
    "            newClusters[index].append(e)\n",
    "\n",
    "            #Upate each cluster; check if a centroid has changed\n",
    "            converged = True\n",
    "            for i in range(len(clusters)):\n",
    "                if clusters[i].update(newClusters[i]) > 0.0:\n",
    "                    converged = False\n",
    "            if verbose:\n",
    "                print('Iteration #' + str(numIterations))\n",
    "            for c in clusters:\n",
    "                print(c)\n",
    "            print('') #add blank line\n",
    "    return clusters"
   ]
  },
  {
   "cell_type": "code",
   "execution_count": 14,
   "metadata": {},
   "outputs": [],
   "source": [
    "def dissimilarity(clusters):\n",
    "    totDist = 0.0\n",
    "    for c in clusters:\n",
    "        totDist += c.variance()\n",
    "    return totDist\n",
    "\n",
    "def trykmeans(examples, exampleType, numClusters, numTrials,\n",
    "    verbose = False):\n",
    "    \"\"\"Calls kmeans numTrials times and returns the result with the\n",
    "    lowest dissimilarity\"\"\"\n",
    "\n",
    "    best = kmeans(examples, exampleType, numClusters, verbose)\n",
    "    minDissimilarity = dissimilarity(best)\n",
    "    for trial in range(1, numTrials):\n",
    "        clusters = kmeans(examples, exampleType, numClusters, verbose)\n",
    "    currDissimilarity = dissimilarity(clusters)\n",
    "    if currDissimilarity < minDissimilarity:\n",
    "        best = clusters\n",
    "        minDissimilarity = currDissimilarity\n",
    "    return best"
   ]
  },
  {
   "cell_type": "code",
   "execution_count": 15,
   "metadata": {},
   "outputs": [],
   "source": [
    "def genDistribution(xMean, xSD, yMean, ySD, n, namePrefix):\n",
    "    samples = []\n",
    "    for s in range(n):\n",
    "        x = random.gauss(xMean, xSD)\n",
    "        y = random.gauss(yMean, ySD)\n",
    "        samples.append(Example(namePrefix+str(s), [x, y]))\n",
    "    return samples\n",
    "def plotSamples(samples, marker):\n",
    "    xVals, yVals = [], []\n",
    "    for s in samples:\n",
    "        x = s.getFeatures()[0]\n",
    "        y = s.getFeatures()[1]\n",
    "        pylab.annotate(s.getName(), xy = (x, y),\n",
    "    xytext = (x+0.13, y-0.07),\n",
    "    fontsize = 'x-large')\n",
    "    xVals.append(x)\n",
    "    yVals.append(y)\n",
    "    pylab.plot(xVals, yVals, marker)\n",
    "\n",
    "def contrivedTest(numTrials, k, verbose):\n",
    "    random.seed(0)\n",
    "    xMean = 3\n",
    "    xSD = 1\n",
    "    yMean = 5\n",
    "    ySD = 1\n",
    "    n = 10\n",
    "    d1Samples = genDistribution(xMean, xSD, yMean, ySD, n, '1.')\n",
    "    plotSamples(d1Samples, 'b^')\n",
    "    d2Samples = genDistribution(xMean+3, xSD, yMean+1, ySD, n, '2.')\n",
    "    plotSamples(d2Samples, 'ro')\n",
    "    clusters = trykmeans(d1Samples + d2Samples, Example, k,\n",
    "    numTrials, verbose)\n",
    "    print ('Final result')\n",
    "    for c in clusters:\n",
    "        print('', c)"
   ]
  },
  {
   "cell_type": "code",
   "execution_count": null,
   "metadata": {},
   "outputs": [],
   "source": [
    "import random\n",
    "contrivedTest(1, 2, True)"
   ]
  },
  {
   "cell_type": "code",
   "execution_count": null,
   "metadata": {},
   "outputs": [],
   "source": [
    "contrivedTest(40, 2, False)"
   ]
  },
  {
   "cell_type": "code",
   "execution_count": 26,
   "metadata": {},
   "outputs": [],
   "source": [
    "def readMammalData(fName):\n",
    "    dataFile = open(fName, 'r')\n",
    "    numFeatures = 0\n",
    "    #Process lines at top of file\n",
    "    for line in dataFile: #Find number of features\n",
    "        if line[0:6] == '#Label': #indicates end of features\n",
    "            break\n",
    "        if line[0:5] != '#Name':\n",
    "            numFeatures += 1\n",
    "    featureVals = []\n",
    "\n",
    "    #Produce featureVals, speciesNames, and labelList\n",
    "    featureVals, speciesNames, labelList = [], [], []\n",
    "    for i in range(numFeatures):\n",
    "        featureVals.append([])\n",
    "\n",
    "    #Continue processing lines in file, starting after comments\n",
    "    for line in dataFile:\n",
    "        dataLine = string.split(line[:-1], ',') #remove newline; then split\n",
    "        speciesNames.append(dataLine[0])\n",
    "        classLabel = float(dataLine[-1])\n",
    "        labelList.append(classLabel)\n",
    "        for i in range(numFeatures):\n",
    "            featureVals[i].append(float(dataLine[i+1]))\n",
    "\n",
    "    #Use featureVals to build list containing the feature vectors\n",
    "    #for each mammal\n",
    "    featureVectorList = []\n",
    "    for mammal in range(len(speciesNames)):\n",
    "        featureVector = []\n",
    "        for feature in range(numFeatures):\n",
    "            featureVector.append(featureVals[feature][mammal])\n",
    "        featureVectorList.append(featureVector)\n",
    "    return featureVectorList, labelList, speciesNames"
   ]
  },
  {
   "cell_type": "code",
   "execution_count": 27,
   "metadata": {},
   "outputs": [],
   "source": [
    "def buildMammalExamples(featureList, labelList, speciesNames):\n",
    "    examples = []\n",
    "    for i in range(len(speciesNames)):\n",
    "        features = pylab.array(featureList[i])\n",
    "        example = Example(speciesNames[i], features, labelList[i])\n",
    "        examples.append(example)\n",
    "    return examples\n",
    "\n",
    "def testTeeth(numClusters, numTrials):\n",
    "    features, labels, species = readMammalData('/Users/kassayebelay/Desktop/Python/IntrotoComputationwithPython/dentalFormulas.txt')\n",
    "    examples = buildMammalExamples(features, labels, species)\n",
    "    bestClustering =\\\n",
    "    trykmeans(examples, Example, numClusters, numTrials)\n",
    "    for c in bestClustering:\n",
    "        names = ''\n",
    "        for p in c.members():\n",
    "            names += p.getName() + ', '\n",
    "        print('\\n', names[:-2]) #remove trailing comma and space\n",
    "        herbivores, carnivores, omnivores = 0, 0, 0\n",
    "        for p in c.members():\n",
    "            if p.getLabel() == 0:\n",
    "                herbivores += 1\n",
    "            elif p.getLabel() == 1:\n",
    "                carnivores += 1\n",
    "            else:\n",
    "                omnivores += 1\n",
    "        print(herbivores, 'herbivores,', carnivores, 'carnivores,',omnivores, 'omnivores')"
   ]
  },
  {
   "cell_type": "code",
   "execution_count": 28,
   "metadata": {},
   "outputs": [
    {
     "ename": "NameError",
     "evalue": "name 'string' is not defined",
     "output_type": "error",
     "traceback": [
      "\u001b[0;31m---------------------------------------------------------------------------\u001b[0m",
      "\u001b[0;31mNameError\u001b[0m                                 Traceback (most recent call last)",
      "\u001b[0;32m/var/folders/76/xs74b8wd5y1d4jslcyz534sh0000gn/T/ipykernel_34733/3951623906.py\u001b[0m in \u001b[0;36m<module>\u001b[0;34m\u001b[0m\n\u001b[0;32m----> 1\u001b[0;31m \u001b[0mtestTeeth\u001b[0m\u001b[0;34m(\u001b[0m\u001b[0;36m3\u001b[0m\u001b[0;34m,\u001b[0m \u001b[0;36m20\u001b[0m\u001b[0;34m)\u001b[0m\u001b[0;34m\u001b[0m\u001b[0;34m\u001b[0m\u001b[0m\n\u001b[0m",
      "\u001b[0;32m/var/folders/76/xs74b8wd5y1d4jslcyz534sh0000gn/T/ipykernel_34733/2391650319.py\u001b[0m in \u001b[0;36mtestTeeth\u001b[0;34m(numClusters, numTrials)\u001b[0m\n\u001b[1;32m      8\u001b[0m \u001b[0;34m\u001b[0m\u001b[0m\n\u001b[1;32m      9\u001b[0m \u001b[0;32mdef\u001b[0m \u001b[0mtestTeeth\u001b[0m\u001b[0;34m(\u001b[0m\u001b[0mnumClusters\u001b[0m\u001b[0;34m,\u001b[0m \u001b[0mnumTrials\u001b[0m\u001b[0;34m)\u001b[0m\u001b[0;34m:\u001b[0m\u001b[0;34m\u001b[0m\u001b[0;34m\u001b[0m\u001b[0m\n\u001b[0;32m---> 10\u001b[0;31m     \u001b[0mfeatures\u001b[0m\u001b[0;34m,\u001b[0m \u001b[0mlabels\u001b[0m\u001b[0;34m,\u001b[0m \u001b[0mspecies\u001b[0m \u001b[0;34m=\u001b[0m \u001b[0mreadMammalData\u001b[0m\u001b[0;34m(\u001b[0m\u001b[0;34m'/Users/kassayebelay/Desktop/Python/IntrotoComputationwithPython/dentalFormulas.txt'\u001b[0m\u001b[0;34m)\u001b[0m\u001b[0;34m\u001b[0m\u001b[0;34m\u001b[0m\u001b[0m\n\u001b[0m\u001b[1;32m     11\u001b[0m     \u001b[0mexamples\u001b[0m \u001b[0;34m=\u001b[0m \u001b[0mbuildMammalExamples\u001b[0m\u001b[0;34m(\u001b[0m\u001b[0mfeatures\u001b[0m\u001b[0;34m,\u001b[0m \u001b[0mlabels\u001b[0m\u001b[0;34m,\u001b[0m \u001b[0mspecies\u001b[0m\u001b[0;34m)\u001b[0m\u001b[0;34m\u001b[0m\u001b[0;34m\u001b[0m\u001b[0m\n\u001b[1;32m     12\u001b[0m     \u001b[0mbestClustering\u001b[0m \u001b[0;34m=\u001b[0m\u001b[0;31m\\\u001b[0m\u001b[0;34m\u001b[0m\u001b[0;34m\u001b[0m\u001b[0m\n",
      "\u001b[0;32m/var/folders/76/xs74b8wd5y1d4jslcyz534sh0000gn/T/ipykernel_34733/1952455697.py\u001b[0m in \u001b[0;36mreadMammalData\u001b[0;34m(fName)\u001b[0m\n\u001b[1;32m     17\u001b[0m     \u001b[0;31m#Continue processing lines in file, starting after comments\u001b[0m\u001b[0;34m\u001b[0m\u001b[0;34m\u001b[0m\u001b[0m\n\u001b[1;32m     18\u001b[0m     \u001b[0;32mfor\u001b[0m \u001b[0mline\u001b[0m \u001b[0;32min\u001b[0m \u001b[0mdataFile\u001b[0m\u001b[0;34m:\u001b[0m\u001b[0;34m\u001b[0m\u001b[0;34m\u001b[0m\u001b[0m\n\u001b[0;32m---> 19\u001b[0;31m         \u001b[0mdataLine\u001b[0m \u001b[0;34m=\u001b[0m \u001b[0mstring\u001b[0m\u001b[0;34m.\u001b[0m\u001b[0msplit\u001b[0m\u001b[0;34m(\u001b[0m\u001b[0mline\u001b[0m\u001b[0;34m[\u001b[0m\u001b[0;34m:\u001b[0m\u001b[0;34m-\u001b[0m\u001b[0;36m1\u001b[0m\u001b[0;34m]\u001b[0m\u001b[0;34m,\u001b[0m \u001b[0;34m','\u001b[0m\u001b[0;34m)\u001b[0m \u001b[0;31m#remove newline; then split\u001b[0m\u001b[0;34m\u001b[0m\u001b[0;34m\u001b[0m\u001b[0m\n\u001b[0m\u001b[1;32m     20\u001b[0m         \u001b[0mspeciesNames\u001b[0m\u001b[0;34m.\u001b[0m\u001b[0mappend\u001b[0m\u001b[0;34m(\u001b[0m\u001b[0mdataLine\u001b[0m\u001b[0;34m[\u001b[0m\u001b[0;36m0\u001b[0m\u001b[0;34m]\u001b[0m\u001b[0;34m)\u001b[0m\u001b[0;34m\u001b[0m\u001b[0;34m\u001b[0m\u001b[0m\n\u001b[1;32m     21\u001b[0m         \u001b[0mclassLabel\u001b[0m \u001b[0;34m=\u001b[0m \u001b[0mfloat\u001b[0m\u001b[0;34m(\u001b[0m\u001b[0mdataLine\u001b[0m\u001b[0;34m[\u001b[0m\u001b[0;34m-\u001b[0m\u001b[0;36m1\u001b[0m\u001b[0;34m]\u001b[0m\u001b[0;34m)\u001b[0m\u001b[0;34m\u001b[0m\u001b[0;34m\u001b[0m\u001b[0m\n",
      "\u001b[0;31mNameError\u001b[0m: name 'string' is not defined"
     ]
    }
   ],
   "source": [
    "testTeeth(3, 20)"
   ]
  },
  {
   "cell_type": "code",
   "execution_count": 29,
   "metadata": {},
   "outputs": [],
   "source": [
    "def scaleFeatures(vals):\n",
    "    \"\"\"Assumes vals is a sequence of numbers\"\"\"\n",
    "    result = pylab.array(vals)\n",
    "    mean = sum(result)/float(len(result))\n",
    "    result = result - mean\n",
    "    sd = stdDev(result)\n",
    "    result = result/sd\n",
    "    return result"
   ]
  },
  {
   "cell_type": "code",
   "execution_count": null,
   "metadata": {},
   "outputs": [],
   "source": []
  }
 ],
 "metadata": {
  "kernelspec": {
   "display_name": "base",
   "language": "python",
   "name": "python3"
  },
  "language_info": {
   "codemirror_mode": {
    "name": "ipython",
    "version": 3
   },
   "file_extension": ".py",
   "mimetype": "text/x-python",
   "name": "python",
   "nbconvert_exporter": "python",
   "pygments_lexer": "ipython3",
   "version": "3.9.7"
  }
 },
 "nbformat": 4,
 "nbformat_minor": 2
}
