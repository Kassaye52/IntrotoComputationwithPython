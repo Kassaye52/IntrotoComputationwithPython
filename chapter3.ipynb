{
 "cells": [
  {
   "cell_type": "markdown",
   "metadata": {},
   "source": [
    "### 3. SOME SIMPLE NUMERICAL PROGRAMS"
   ]
  },
  {
   "cell_type": "code",
   "execution_count": 7,
   "metadata": {},
   "outputs": [
    {
     "name": "stdout",
     "output_type": "stream",
     "text": [
      "Cube root of  7406961012236344616  is 1949306\n",
      "Value of decrementing function abs(x) - ans**3 is  0\n"
     ]
    }
   ],
   "source": [
    "# Find the cube root of a perfect cube\n",
    "x = int(input(\"Enter an integer: \"))\n",
    "ans = 0\n",
    "while ans**3 < abs(x):\n",
    "    ans = ans + 1\n",
    "if ans**3 != abs(x):\n",
    "    print(x, \"is not a perfect square\")\n",
    "else:\n",
    "    if x < 0:\n",
    "        ans = -ans\n",
    "    print(\"Cube root of \", x, \" is\", ans)\n",
    "\n",
    "print(\"Value of decrementing function abs(x) - ans**3 is \", abs(x)-ans**3)"
   ]
  },
  {
   "cell_type": "markdown",
   "metadata": {},
   "source": [
    "Whenever you write a loop, you should think about an appropriate\n",
    "decrementing function. This is a function that has the following properties:\\n\n",
    "        1. It maps a set of program variables into an integer.\n",
    "        2. When the loop is entered, its value is nonnegative.\n",
    "        3. When its value is <=0, the loop terminates.\n",
    "        4. Its value is decreased every time through the loop.\n",
    "What is the decrementing function for the loop in Figure 3.1? It is\n",
    "abs(x) - ans**3."
   ]
  },
  {
   "cell_type": "code",
   "execution_count": 8,
   "metadata": {},
   "outputs": [
    {
     "name": "stdout",
     "output_type": "stream",
     "text": [
      "5\n"
     ]
    }
   ],
   "source": [
    "max = int(input(\"Enter a possitive integer: \"))\n",
    "i = 0\n",
    "while i < max:\n",
    "    i = i + 1\n",
    "print(i)"
   ]
  },
  {
   "cell_type": "markdown",
   "metadata": {},
   "source": [
    "Finger exercise: Write a program that asks the user to enter an integer and\n",
    "prints two integers, root and pwr, such that 0 < pwr < 6 and root**pwr is equal\n",
    "to the integer entered by the user. If no such pair of integers exists, it should\n",
    "print a message to that effect."
   ]
  },
  {
   "cell_type": "markdown",
   "metadata": {},
   "source": []
  },
  {
   "cell_type": "code",
   "execution_count": 17,
   "metadata": {},
   "outputs": [
    {
     "name": "stdout",
     "output_type": "stream",
     "text": [
      "root = 5 and pwr = 1\n"
     ]
    }
   ],
   "source": [
    "x = int(input(\"Enter an integer: \"))\n",
    "# Flage to indicate if a pair is found\n",
    "found = False\n",
    "\n",
    "# Loop over powers from 1 to 5\n",
    "for pwr in range(1,6):\n",
    "    # Loop over posible roots from 0 |x|\n",
    "    for root in range(abs(x)+1):\n",
    "        #check if root ** pwr equals user input\n",
    "        if root ** pwr == x:\n",
    "            print(\"root =\", root, \"and pwr =\", pwr)\n",
    "\n",
    "            found = True\n",
    "            break\n",
    "        elif root ** pwr > x:\n",
    "            break\n",
    "    if found:\n",
    "        break\n",
    "if not found:\n",
    "    print(\"No such pair of intergers exists\")\n",
    "\n"
   ]
  },
  {
   "cell_type": "markdown",
   "metadata": {},
   "source": [
    "#### 3.2 For Loops\n",
    "for variable in sequence:       \n",
    "    code block"
   ]
  },
  {
   "cell_type": "code",
   "execution_count": 21,
   "metadata": {},
   "outputs": [
    {
     "name": "stdout",
     "output_type": "stream",
     "text": [
      "0\n",
      "1\n",
      "2\n",
      "3\n"
     ]
    }
   ],
   "source": [
    "x = 4\n",
    "for i in range(0,x):\n",
    "    print(i)"
   ]
  },
  {
   "cell_type": "code",
   "execution_count": 22,
   "metadata": {},
   "outputs": [
    {
     "name": "stdout",
     "output_type": "stream",
     "text": [
      "0\n",
      "1\n",
      "2\n",
      "3\n"
     ]
    }
   ],
   "source": [
    "x = 4\n",
    "for i in range(0,x):\n",
    "    print(i)\n",
    "    x = 5"
   ]
  },
  {
   "cell_type": "code",
   "execution_count": 23,
   "metadata": {},
   "outputs": [
    {
     "name": "stdout",
     "output_type": "stream",
     "text": [
      "0\n",
      "1\n",
      "2\n",
      "3\n",
      "0\n",
      "1\n",
      "0\n",
      "1\n",
      "0\n",
      "1\n"
     ]
    }
   ],
   "source": [
    "x = 4\n",
    "for j in range(x):\n",
    "    for i in range(x):\n",
    "        print(i)\n",
    "        x = 2"
   ]
  },
  {
   "cell_type": "code",
   "execution_count": 26,
   "metadata": {},
   "outputs": [
    {
     "name": "stdout",
     "output_type": "stream",
     "text": [
      "45\n"
     ]
    }
   ],
   "source": [
    "total = 0\n",
    "for c in \"123456789\":\n",
    "    total = total + int(c)\n",
    "print(total)"
   ]
  },
  {
   "cell_type": "code",
   "execution_count": 29,
   "metadata": {},
   "outputs": [
    {
     "name": "stdout",
     "output_type": "stream",
     "text": [
      "6.753\n"
     ]
    }
   ],
   "source": [
    "total = 0\n",
    "for s in '1.23,2.4,3.123'.split(\",\"):\n",
    "    total = total + float(s)\n",
    "print(total)"
   ]
  },
  {
   "cell_type": "markdown",
   "metadata": {},
   "source": [
    "### 3.3 Approximate Solutions and Bisection Search"
   ]
  },
  {
   "cell_type": "code",
   "execution_count": 30,
   "metadata": {},
   "outputs": [
    {
     "name": "stdout",
     "output_type": "stream",
     "text": [
      "numGuesses = 49990\n",
      "4.999000000001688 is close to square root of 25\n"
     ]
    }
   ],
   "source": [
    "x = 25\n",
    "epsilon = 0.01\n",
    "step = epsilon**2\n",
    "numGuesses = 0\n",
    "ans = 0.0\n",
    "while abs(ans**2 - x) >= epsilon and ans <= x:\n",
    "    ans += step\n",
    "    numGuesses += 1 \n",
    "print('numGuesses =', numGuesses)\n",
    "if abs(ans**2 - x) >= epsilon:\n",
    "    print('Failed on square root of', x)\n",
    "else:\n",
    "    print(ans, 'is close to square root of', x)"
   ]
  },
  {
   "cell_type": "code",
   "execution_count": 33,
   "metadata": {},
   "outputs": [
    {
     "name": "stdout",
     "output_type": "stream",
     "text": [
      "numGuesses = 351363047\n",
      "351.36304620491023 is close to square root of 123456\n"
     ]
    }
   ],
   "source": [
    "x = 123456\n",
    "epsilon = 0.01\n",
    "step = epsilon**3\n",
    "numGuesses = 0\n",
    "ans = 0.0\n",
    "while abs(ans**2 - x) >= epsilon and ans*ans <= x:\n",
    "    ans += step\n",
    "    numGuesses += 1 \n",
    "print('numGuesses =', numGuesses)\n",
    "if abs(ans**2 - x) >= epsilon:\n",
    "    print('Failed on square root of', x)\n",
    "else:\n",
    "    print(ans, 'is close to square root of', x)"
   ]
  },
  {
   "cell_type": "code",
   "execution_count": 41,
   "metadata": {},
   "outputs": [
    {
     "ename": "TypeError",
     "evalue": "'int' object is not callable",
     "output_type": "error",
     "traceback": [
      "\u001b[0;31m---------------------------------------------------------------------------\u001b[0m",
      "\u001b[0;31mTypeError\u001b[0m                                 Traceback (most recent call last)",
      "\u001b[0;32m/var/folders/76/xs74b8wd5y1d4jslcyz534sh0000gn/T/ipykernel_39744/3121099803.py\u001b[0m in \u001b[0;36m<module>\u001b[0;34m\u001b[0m\n\u001b[1;32m      3\u001b[0m \u001b[0mnumGuesses\u001b[0m \u001b[0;34m=\u001b[0m \u001b[0;36m0\u001b[0m\u001b[0;34m\u001b[0m\u001b[0;34m\u001b[0m\u001b[0m\n\u001b[1;32m      4\u001b[0m \u001b[0mlow\u001b[0m \u001b[0;34m=\u001b[0m \u001b[0;36m0.0\u001b[0m\u001b[0;34m\u001b[0m\u001b[0;34m\u001b[0m\u001b[0m\n\u001b[0;32m----> 5\u001b[0;31m \u001b[0mhigh\u001b[0m \u001b[0;34m=\u001b[0m \u001b[0mmax\u001b[0m\u001b[0;34m(\u001b[0m\u001b[0;36m1.0\u001b[0m\u001b[0;34m,\u001b[0m \u001b[0mx\u001b[0m\u001b[0;34m)\u001b[0m\u001b[0;34m\u001b[0m\u001b[0;34m\u001b[0m\u001b[0m\n\u001b[0m\u001b[1;32m      6\u001b[0m \u001b[0mans\u001b[0m \u001b[0;34m=\u001b[0m \u001b[0;34m(\u001b[0m\u001b[0mhigh\u001b[0m \u001b[0;34m+\u001b[0m \u001b[0mlow\u001b[0m\u001b[0;34m)\u001b[0m\u001b[0;34m/\u001b[0m\u001b[0;36m2.0\u001b[0m\u001b[0;34m\u001b[0m\u001b[0;34m\u001b[0m\u001b[0m\n\u001b[1;32m      7\u001b[0m \u001b[0;32mwhile\u001b[0m \u001b[0mabs\u001b[0m\u001b[0;34m(\u001b[0m\u001b[0mans\u001b[0m\u001b[0;34m**\u001b[0m\u001b[0;36m2\u001b[0m \u001b[0;34m-\u001b[0m \u001b[0mx\u001b[0m\u001b[0;34m)\u001b[0m \u001b[0;34m>=\u001b[0m \u001b[0mepsilon\u001b[0m\u001b[0;34m:\u001b[0m\u001b[0;34m\u001b[0m\u001b[0;34m\u001b[0m\u001b[0m\n",
      "\u001b[0;31mTypeError\u001b[0m: 'int' object is not callable"
     ]
    }
   ],
   "source": [
    "x = 25\n",
    "epsilon = 0.01\n",
    "numGuesses = 0\n",
    "low = 0.0\n",
    "high = max(1.0, x)\n",
    "ans = (high + low)/2.0\n",
    "while abs(ans**2 - x) >= epsilon:\n",
    "    print('low =', low, 'high =', high, 'ans =', ans)\n",
    "    numGuesses += 1\n",
    "    if ans**2 < x:\n",
    "        low = ans\n",
    "    else:\n",
    "        high = ans\n",
    "    ans = (high + low)/2.0\n",
    "print('numGuesses =', numGuesses)\n",
    "print(ans, 'is close to square root of', x)"
   ]
  },
  {
   "cell_type": "code",
   "execution_count": 42,
   "metadata": {},
   "outputs": [
    {
     "name": "stdout",
     "output_type": "stream",
     "text": [
      "0.9999999999999999 is not 1.0\n"
     ]
    }
   ],
   "source": [
    "x = 0.0\n",
    "for i in range(10):\n",
    "    x = x + 0.1\n",
    "if x == 1.0:\n",
    "    print(x, '= 1.0')\n",
    "else:\n",
    "    print(x, 'is not 1.0')"
   ]
  },
  {
   "cell_type": "code",
   "execution_count": 43,
   "metadata": {},
   "outputs": [
    {
     "name": "stdout",
     "output_type": "stream",
     "text": [
      "Square root of 24.0 is about 4.8989887432139305\n"
     ]
    }
   ],
   "source": [
    "#Newton-Raphson for square root\n",
    "#Find x such that x**2 - 24 is within epsilon of 0\n",
    "epsilon = 0.01\n",
    "k = 24.0\n",
    "guess = k/2.0\n",
    "while abs(guess*guess - k) >= epsilon:\n",
    "    guess = guess - (((guess**2) - k)/(2*guess))\n",
    "print('Square root of', k, 'is about', guess   ) "
   ]
  }
 ],
 "metadata": {
  "kernelspec": {
   "display_name": "base",
   "language": "python",
   "name": "python3"
  },
  "language_info": {
   "codemirror_mode": {
    "name": "ipython",
    "version": 3
   },
   "file_extension": ".py",
   "mimetype": "text/x-python",
   "name": "python",
   "nbconvert_exporter": "python",
   "pygments_lexer": "ipython3",
   "version": "3.9.7"
  }
 },
 "nbformat": 4,
 "nbformat_minor": 2
}
