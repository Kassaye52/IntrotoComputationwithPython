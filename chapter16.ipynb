{
 "cells": [
  {
   "cell_type": "markdown",
   "metadata": {},
   "source": [
    "### 16 LIES, DAMNED LIES, AND STATISTICS"
   ]
  },
  {
   "cell_type": "code",
   "execution_count": null,
   "metadata": {},
   "outputs": [],
   "source": [
    "import pylab\n",
    "def plotHousing(impression):\n",
    "    \"\"\"Assumes impression a str. Must be one of 'flat',\n",
    "    'volatile,' and 'fair'\n",
    "    Produce bar chart of housing prices over time\"\"\"\n",
    "    f = open('midWestHousingPrices.txt', 'r')\n",
    "    #Each line of file contains year quarter price\n",
    "    #for Midwest region of U.S.\n",
    "    labels, prices = ([], [])\n",
    "    for line in f:\n",
    "        year, quarter, price = line.split()\n",
    "    label = year[2:4] + '\\n Q' + quarter[1]\n",
    "    labels.append(label)\n",
    "    prices.append(float(price)/1000)\n",
    "    quarters = pylab.arange(len(labels)) #x coords of bars\n",
    "    width = 0.8 #Width of bars\n",
    "    if impression == 'flat':\n",
    "        pylab.semilogy()\n",
    "    pylab.bar(quarters, prices, width)\n",
    "    pylab.xticks(quarters+width/2.0, labels)\n",
    "    pylab.title('Housing Prices in U.S. Midwest')\n",
    "    pylab.xlabel('Quarter')\n",
    "    pylab.ylabel('Average Price ($1,000\\'s)')\n",
    "    if impression == 'flat':\n",
    "        pylab.ylim(10, 10**3)\n",
    "    elif impression == 'volatile':\n",
    "        pylab.ylim(180, 220)\n",
    "    elif impression == 'fair':\n",
    "        pylab.ylim(150, 250)\n",
    "    else:\n",
    "        raise ValueError\n",
    "plotHousing('flat')\n",
    "pylab.figure()\n",
    "plotHousing('volatile')\n",
    "pylab.figure()\n",
    "plotHousing('fair')"
   ]
  },
  {
   "cell_type": "code",
   "execution_count": 5,
   "metadata": {},
   "outputs": [],
   "source": [
    "import random\n",
    "def juneProb(numTrials):\n",
    "    june48 = 0\n",
    "    for trial in range(numTrials):\n",
    "        june = 0\n",
    "    for i in range(446):\n",
    "        if random.randint(1,12) == 6:\n",
    "            june += 1\n",
    "    if june >= 48:\n",
    "        june48 += 1\n",
    "    jProb = june48/float(numTrials)\n",
    "    print('Probability of at least 48 births in June =', jProb)"
   ]
  },
  {
   "cell_type": "code",
   "execution_count": 6,
   "metadata": {},
   "outputs": [
    {
     "name": "stdout",
     "output_type": "stream",
     "text": [
      "Probability of at least 48 births in June = 0.0\n"
     ]
    }
   ],
   "source": [
    "juneProb(10000)"
   ]
  },
  {
   "cell_type": "code",
   "execution_count": 7,
   "metadata": {},
   "outputs": [],
   "source": [
    "def anyProb(numTrials):\n",
    "    anyMonth48 = 0\n",
    "    for trial in range(numTrials):\n",
    "        months = [0]*12\n",
    "    for i in range(446):\n",
    "        months[random.randint(0,11)] += 1\n",
    "    if max(months) >= 48:\n",
    "        anyMonth48 += 1\n",
    "    aProb = anyMonth48/float(numTrials)\n",
    "    print('Probability of at least 48 births in some month =', aProb)"
   ]
  },
  {
   "cell_type": "code",
   "execution_count": 8,
   "metadata": {},
   "outputs": [
    {
     "name": "stdout",
     "output_type": "stream",
     "text": [
      "Probability of at least 48 births in some month = 0.0001\n"
     ]
    }
   ],
   "source": [
    "anyProb(10000)"
   ]
  },
  {
   "cell_type": "code",
   "execution_count": null,
   "metadata": {},
   "outputs": [],
   "source": []
  }
 ],
 "metadata": {
  "kernelspec": {
   "display_name": "base",
   "language": "python",
   "name": "python3"
  },
  "language_info": {
   "codemirror_mode": {
    "name": "ipython",
    "version": 3
   },
   "file_extension": ".py",
   "mimetype": "text/x-python",
   "name": "python",
   "nbconvert_exporter": "python",
   "pygments_lexer": "ipython3",
   "version": "3.9.7"
  }
 },
 "nbformat": 4,
 "nbformat_minor": 2
}
