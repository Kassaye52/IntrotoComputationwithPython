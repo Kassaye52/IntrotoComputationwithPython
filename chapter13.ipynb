{
 "cells": [
  {
   "cell_type": "markdown",
   "metadata": {},
   "source": [
    "### 13 RANDOM WALKS AND MORE ABOUT DATA VISUALIZATION"
   ]
  },
  {
   "cell_type": "code",
   "execution_count": 12,
   "metadata": {},
   "outputs": [],
   "source": [
    "class Location(object):\n",
    "    def __init__(self, x, y):\n",
    "        \"\"\"x and y are floats\"\"\"\n",
    "        self.x = x\n",
    "        self.y = y\n",
    "\n",
    "    def move(self, deltaX, deltaY):\n",
    "        \"\"\"deltaX and deltaY are floats\"\"\"\n",
    "        return Location(self.x + deltaX, self.y + deltaY)\n",
    "    \n",
    "    def getX(self):\n",
    "        return self.x\n",
    "    \n",
    "    def getY(self):\n",
    "        return self.y\n",
    "    \n",
    "    def distFrom(self, other):\n",
    "        ox = other.x\n",
    "        oy = other.y\n",
    "        xDist = self.x - ox\n",
    "        yDist = self.y - oy\n",
    "        return (xDist**2 + yDist**2)**0.5\n",
    "    \n",
    "    def __str__(self):\n",
    "        return '<' + str(self.x) + ', ' + str(self.y) + '>'"
   ]
  },
  {
   "cell_type": "code",
   "execution_count": 13,
   "metadata": {},
   "outputs": [],
   "source": [
    "class Field(object):\n",
    "    \n",
    "    def __init__(self):\n",
    "        self.drunks = {}\n",
    "\n",
    "    def addDrunk(self, drunk, loc):\n",
    "        if drunk in self.drunks:\n",
    "            raise ValueError('Duplicate drunk')\n",
    "        else:\n",
    "            self.drunks[drunk] = loc\n",
    "\n",
    "    def moveDrunk(self, drunk):\n",
    "        if drunk not in self.drunks:\n",
    "            raise ValueError('Drunk not in field')\n",
    "        xDist, yDist = drunk.takeStep()\n",
    "        currentLocation = self.drunks[drunk]\n",
    "        #use move method of Location to get new location\n",
    "        self.drunks[drunk] = currentLocation.move(xDist, yDist)\n",
    "\n",
    "    def getLoc(self, drunk):\n",
    "        if drunk not in self.drunks:\n",
    "            raise ValueError('Drunk not in field')\n",
    "        return self.drunks[drunk]"
   ]
  },
  {
   "cell_type": "code",
   "execution_count": 14,
   "metadata": {},
   "outputs": [],
   "source": [
    "class Drunk(object):\n",
    "    def __init__(self, name = None):\n",
    "        \"\"\"Assumes name is a str\"\"\"\n",
    "        self.name = name\n",
    "\n",
    "    def __str__(self):\n",
    "        if self != None:\n",
    "            return self.name\n",
    "        return 'Anonymous'\n",
    "    \n",
    "class UsualDrunk(Drunk):\n",
    "        def takeStep(self):\n",
    "            stepChoices = [(0.0,1.0), (0.0,-1.0), (1.0, 0.0), (-1.0, 0.0)]\n",
    "            return random.choice(stepChoices)\n"
   ]
  },
  {
   "cell_type": "code",
   "execution_count": 15,
   "metadata": {},
   "outputs": [],
   "source": [
    "class Drunk(object):\n",
    "    def __init__(self, name=None):\n",
    "        \"\"\"Assumes name is a str\"\"\"\n",
    "        self.name = name\n",
    "\n",
    "    def __str__(self):\n",
    "        if self.name != None:\n",
    "            return self.name\n",
    "        return 'Anonymous'\n",
    "\n",
    "class UsualDrunk(Drunk):\n",
    "    def takeStep(self):\n",
    "        stepChoices = [(0.0, 1.0), (0.0, -1.0), (1.0, 0.0), (-1.0, 0.0)]\n",
    "        return random.choice(stepChoices)  # Make sure to import random at the top of your script\n"
   ]
  },
  {
   "cell_type": "code",
   "execution_count": 18,
   "metadata": {},
   "outputs": [],
   "source": [
    "def CV(X):\n",
    "    mean = sum(X)/float(len(X))\n",
    "    try:\n",
    "        return stdDev(X)/mean\n",
    "    except ZeroDivisionError:\n",
    "        return float('nan')"
   ]
  },
  {
   "cell_type": "code",
   "execution_count": 22,
   "metadata": {},
   "outputs": [],
   "source": [
    "def stdDev(X):\n",
    "    \"\"\"Assumes that X is a list of numbers.\n",
    "    Returns the standard deviation of X\"\"\"\n",
    "    mean = float(sum(X))/len(X)\n",
    "    tot = 0.0\n",
    "    for x in X:\n",
    "        tot += (x - mean)**2\n",
    "    return (tot/len(X))**0.5 #Square root of mean difference"
   ]
  },
  {
   "cell_type": "code",
   "execution_count": 23,
   "metadata": {},
   "outputs": [],
   "source": [
    "import random\n",
    "\n",
    "def walk(f, d, numSteps):\n",
    "    \"\"\"Assumes: f a Field, d a Drunk in f, and numSteps an int >= 0.\n",
    "    Moves d numSteps times, and returns the difference between\n",
    "    the final location and the location at the start of the walk.\"\"\"\n",
    "    start = f.getLoc(d)\n",
    "    for s in range(numSteps):\n",
    "        f.moveDrunk(d)\n",
    "    return start.distFrom(f.getLoc(d))\n",
    "\n",
    "def simWalks(numSteps, numTrials, dClass):\n",
    "    \"\"\"Assumes numSteps an int >= 0, numTrials an int > 0,\n",
    "    dClass a subclass of Drunk\n",
    "    Simulates numTrials walks of numSteps steps each.\n",
    "    Returns a list of the final distances for each trial\"\"\"\n",
    "    Homer = dClass()\n",
    "    origin = Location(0.0, 0.0)\n",
    "    distances = []\n",
    "    for t in range(numTrials):\n",
    "        f = Field()\n",
    "        f.addDrunk(Homer, origin)\n",
    "        distances.append(walk(f, Homer, numTrials))\n",
    "    return distances\n",
    "def drunkTest(walkLengths, numTrials, dClass):\n",
    "    \"\"\"Assumes walkLengths a sequence of ints >= 0\n",
    "    numTrials an int > 0, dClass a subclass of Drunk\n",
    "    For each number of steps in walkLengths, runs simWalks with\n",
    "    numTrials walks and prints results\"\"\"\n",
    "    for numSteps in walkLengths:\n",
    "        distances = simWalks(numSteps, numTrials, dClass)\n",
    "        print(dClass.__name__, 'random walk of', numSteps, 'steps')\n",
    "        print(' Mean =', sum(distances)/len(distances), 'CV =', CV(distances))\n",
    "        print(' Max =', max(distances), 'Min =', min(distances))\n"
   ]
  },
  {
   "cell_type": "code",
   "execution_count": 24,
   "metadata": {},
   "outputs": [
    {
     "name": "stdout",
     "output_type": "stream",
     "text": [
      "UsualDrunk random walk of 10 steps\n",
      " Mean = 9.900814961745134 CV = 0.4291549522184103\n",
      " Max = 21.95449840010015 Min = 2.0\n",
      "UsualDrunk random walk of 100 steps\n",
      " Mean = 8.852180152504605 CV = 0.5208590537848587\n",
      " Max = 22.847319317591726 Min = 1.4142135623730951\n",
      "UsualDrunk random walk of 1000 steps\n",
      " Mean = 8.900234725573993 CV = 0.5636429747734909\n",
      " Max = 21.587033144922902 Min = 1.4142135623730951\n",
      "UsualDrunk random walk of 10000 steps\n",
      " Mean = 8.851521500497324 CV = 0.49825103067413945\n",
      " Max = 19.849433241279208 Min = 2.0\n"
     ]
    }
   ],
   "source": [
    "drunkTest((10, 100, 1000, 10000), 100, UsualDrunk)"
   ]
  },
  {
   "cell_type": "code",
   "execution_count": 25,
   "metadata": {},
   "outputs": [
    {
     "name": "stdout",
     "output_type": "stream",
     "text": [
      "UsualDrunk random walk of 0 steps\n",
      " Mean = 8.926557329781923 CV = 0.5483127677093936\n",
      " Max = 26.419689627245813 Min = 0.0\n",
      "UsualDrunk random walk of 1 steps\n",
      " Mean = 9.086480191847384 CV = 0.5156793224382776\n",
      " Max = 19.6468827043885 Min = 1.4142135623730951\n"
     ]
    }
   ],
   "source": [
    "drunkTest((0,1), 100, UsualDrunk)"
   ]
  },
  {
   "cell_type": "markdown",
   "metadata": {},
   "source": [
    "#### 13.2 Biased Random Walks"
   ]
  },
  {
   "cell_type": "code",
   "execution_count": 27,
   "metadata": {},
   "outputs": [],
   "source": [
    "class ColdDrunk(Drunk):\n",
    "    def takeStep(self):\n",
    "        stepChoices = [(0.0,1.0), (0.0,-2.0), (1.0, 0.0), (-1.0, 0.0)]\n",
    "        return random.choice(stepChoices)\n",
    "\n",
    "class EWDrunk(Drunk):\n",
    "    def takeStep(self):\n",
    "        stepChoices = [(1.0, 0.0), (-1.0, 0.0)]\n",
    "        return random.choice(stepChoices)\n",
    "    \n",
    "def simAll(drunkKinds, walkLengths, numTrials):\n",
    "    for dClass in drunkKinds:\n",
    "        drunkTest(walkLengths, numTrials, dClass)"
   ]
  },
  {
   "cell_type": "code",
   "execution_count": 28,
   "metadata": {},
   "outputs": [
    {
     "name": "stdout",
     "output_type": "stream",
     "text": [
      "UsualDrunk random walk of 100 steps\n",
      " Mean = 2.6535460158046194 CV = 0.4704936266158276\n",
      " Max = 4.47213595499958 Min = 0.0\n",
      "UsualDrunk random walk of 1000 steps\n",
      " Mean = 3.235952469267582 CV = 0.5104682415842441\n",
      " Max = 5.830951894845301 Min = 1.4142135623730951\n",
      "ColdDrunk random walk of 100 steps\n",
      " Mean = 4.7546122933701325 CV = 0.6201350312567422\n",
      " Max = 11.40175425099138 Min = 1.0\n",
      "ColdDrunk random walk of 1000 steps\n",
      " Mean = 4.472944031946376 CV = 0.4685714803655554\n",
      " Max = 7.810249675906654 Min = 1.4142135623730951\n",
      "EWDrunk random walk of 100 steps\n",
      " Mean = 3.2 CV = 0.7499999999999999\n",
      " Max = 6.0 Min = 0.0\n",
      "EWDrunk random walk of 1000 steps\n",
      " Mean = 1.8 CV = 1.1600340565456166\n",
      " Max = 6.0 Min = 0.0\n"
     ]
    }
   ],
   "source": [
    "simAll((UsualDrunk, ColdDrunk, EWDrunk), (100, 1000), 10)"
   ]
  },
  {
   "cell_type": "code",
   "execution_count": 29,
   "metadata": {},
   "outputs": [],
   "source": [
    "class styleIterator(object):\n",
    "    def __init__(self, styles):\n",
    "        self.index = 0\n",
    "        self.styles = styles\n",
    "    def nextStyle(self):\n",
    "        result = self.styles[self.index]\n",
    "        if self.index == len(self.styles) - 1:\n",
    "            self.index = 0\n",
    "        else:\n",
    "            self.index += 1\n",
    "        return result"
   ]
  },
  {
   "cell_type": "code",
   "execution_count": 32,
   "metadata": {},
   "outputs": [
    {
     "name": "stdout",
     "output_type": "stream",
     "text": [
      "Starting simulation of UsualDrunk\n",
      "Starting simulation of 10 steps\n",
      "Starting simulation of 100 steps\n",
      "Starting simulation of 1000 steps\n",
      "Starting simulation of 10000 steps\n",
      "Starting simulation of 100000 steps\n",
      "Starting simulation of ColdDrunk\n",
      "Starting simulation of 10 steps\n",
      "Starting simulation of 100 steps\n",
      "Starting simulation of 1000 steps\n",
      "Starting simulation of 10000 steps\n",
      "Starting simulation of 100000 steps\n",
      "Starting simulation of EWDrunk\n",
      "Starting simulation of 10 steps\n",
      "Starting simulation of 100 steps\n",
      "Starting simulation of 1000 steps\n",
      "Starting simulation of 10000 steps\n",
      "Starting simulation of 100000 steps\n"
     ]
    },
    {
     "data": {
      "image/png": "[encoded data removed]",
      "text/plain": [
       "<Figure size 432x288 with 1 Axes>"
      ]
     },
     "metadata": {
      "needs_background": "light"
     },
     "output_type": "display_data"
    }
   ],
   "source": [
    "import pylab\n",
    "def simDrunk(numTrials, dClass, walkLengths):\n",
    "    meanDistances = []\n",
    "    cvDistances = []\n",
    "    for numSteps in walkLengths:\n",
    "        print('Starting simulation of', numSteps, 'steps')\n",
    "        trials = simWalks(numSteps, numTrials, dClass)\n",
    "        mean = sum(trials)/float(len(trials))\n",
    "        meanDistances.append(mean)\n",
    "        cvDistances.append(stdDev(trials)/mean)\n",
    "    return (meanDistances, cvDistances)\n",
    "\n",
    "def simAll(drunkKinds, walkLengths, numTrials):\n",
    "    styleChoice = styleIterator(('b-', 'r:', 'm-.'))\n",
    "    for dClass in drunkKinds:\n",
    "        curStyle = styleChoice.nextStyle()\n",
    "        print('Starting simulation of', dClass.__name__)\n",
    "        means, cvs = simDrunk(numTrials, dClass, walkLengths)\n",
    "        cvMean = sum(cvs)/float(len(cvs))\n",
    "        pylab.plot(walkLengths, means, curStyle,\n",
    "        label = dClass.__name__ +\n",
    "        '(CV = ' + str(round(cvMean, 4)) + ')')\n",
    "    pylab.title('Mean Distance from Origin ('\n",
    "    + str(numTrials) + ' trials)')\n",
    "    pylab.xlabel('Number of Steps')\n",
    "    pylab.ylabel('Distance from Origin')\n",
    "    pylab.legend(loc = 'best')\n",
    "    pylab.semilogx()\n",
    "    pylab.semilogy()\n",
    "\n",
    "simAll((UsualDrunk, ColdDrunk, EWDrunk), (10,100,1000,10000,100000), 100)"
   ]
  },
  {
   "cell_type": "code",
   "execution_count": null,
   "metadata": {},
   "outputs": [],
   "source": [
    "def getFinalLocs(numSteps, numTrials, dClass):\n",
    "    locs = []\n",
    "    d = dClass()\n",
    "    origin = Location(0, 0)\n",
    "    for t in range(numTrials):\n",
    "        f = Field()\n",
    "        f.addDrunk(d, origin)\n",
    "        for s in range(numSteps):\n",
    "            f.moveDrunk(d)\n",
    "        locs.append(f.getLoc(d))\n",
    "    return locs\n",
    "\n",
    "def plotLocs(drunkKinds, numSteps, numTrials):\n",
    "    styleChoice = styleIterator(('b+', 'r^', 'mo'))\n",
    "    for dClass in drunkKinds:\n",
    "        locs = getFinalLocs(numSteps, numTrials, dClass)\n",
    "        xVals, yVals = [], []\n",
    "        for l in locs:\n",
    "            xVals.append(l.getX())\n",
    "            yVals.append(l.getY())\n",
    "        meanX = sum(xVals)/float(len(xVals))\n",
    "        meanY = sum(yVals)/float(len(yVals))\n",
    "        curStyle = styleChoice.nextStyle()\n",
    "    pylab.plot(xVals, yVals, curStyle,\n",
    "    label = dClass.__name__ + ' Mean loc. = <'\n",
    "    + str(meanX) + ', ' + str(meanY) + '>')\n",
    "    pylab.title('Location at End of Walks ('\n",
    "    + str(numSteps) + ' steps)')\n",
    "    pylab.xlabel('Steps East/West of Origin')\n",
    "    pylab.ylabel('Steps North/South of Origin')\n",
    "    pylab.legend(loc = 'lower left', numpoints = 1)\n",
    "\n",
    "plotLocs((UsualDrunk, ColdDrunk, EWDrunk), 100, 200)"
   ]
  },
  {
   "cell_type": "code",
   "execution_count": 34,
   "metadata": {},
   "outputs": [
    {
     "data": {
      "image/png": "[encoded data removed]",
      "text/plain": [
       "<Figure size 432x288 with 1 Axes>"
      ]
     },
     "metadata": {
      "needs_background": "light"
     },
     "output_type": "display_data"
    }
   ],
   "source": [
    "plotLocs((UsualDrunk, ColdDrunk, EWDrunk), 100, 200)"
   ]
  },
  {
   "cell_type": "code",
   "execution_count": 36,
   "metadata": {},
   "outputs": [
    {
     "data": {
      "image/png": "[encoded data removed]",
      "text/plain": [
       "<Figure size 432x288 with 1 Axes>"
      ]
     },
     "metadata": {
      "needs_background": "light"
     },
     "output_type": "display_data"
    }
   ],
   "source": [
    "def traceWalk(drunkKinds, numSteps):\n",
    "    styleChoice = styleIterator(('b+', 'r^', 'mo'))\n",
    "    f = Field()\n",
    "    for dClass in drunkKinds:\n",
    "        d = dClass()\n",
    "        f.addDrunk(d, Location(0, 0))\n",
    "        locs = []\n",
    "        for s in range(numSteps):\n",
    "            f.moveDrunk(d)\n",
    "            locs.append(f.getLoc(d))\n",
    "        xVals = []\n",
    "        yVals = []\n",
    "        for l in locs:\n",
    "            xVals.append(l.getX())\n",
    "            yVals.append(l.getY())\n",
    "        curStyle = styleChoice.nextStyle()\n",
    "        pylab.plot(xVals, yVals, curStyle,\n",
    "        label = dClass.__name__)\n",
    "    pylab.title('Spots Visited on Walk ('\n",
    "    + str(numSteps) + ' steps)')\n",
    "    pylab.xlabel('Steps East/West of Origin')\n",
    "    pylab.ylabel('Steps North/South of Origin')\n",
    "    pylab.legend(loc = 'best')\n",
    "traceWalk((UsualDrunk, ColdDrunk, EWDrunk), 200)"
   ]
  },
  {
   "cell_type": "code",
   "execution_count": 39,
   "metadata": {},
   "outputs": [],
   "source": [
    "class oddField(Field):\n",
    "    def __init__(self, numHoles, xRange, yRange):\n",
    "        Field.__init__(self)\n",
    "        self.wormholes = {}\n",
    "        for w in range(numHoles):\n",
    "            x = random.randint(-xRange, xRange)\n",
    "            y = random.randint(-yRange, yRange)\n",
    "            newX = random.randint(-xRange, xRange)\n",
    "            newY = random.randint(-yRange, yRange)\n",
    "            newLoc = Location(newX, newY)\n",
    "            self.wormholes[(x, y)] = newLoc\n",
    "\n",
    "    def moveDrunk(self, drunk):\n",
    "        Field.moveDrunk(self, drunk)\n",
    "        x = self.drunks[drunk].getX()\n",
    "        y = self.drunks[drunk].getY()\n",
    "        if (x, y) in self.wormholes:\n",
    "            self.drunks[drunk] = self.wormholes[(x, y)]"
   ]
  },
  {
   "cell_type": "code",
   "execution_count": 40,
   "metadata": {},
   "outputs": [
    {
     "data": {
      "image/png": "[encoded data removed]",
      "text/plain": [
       "<Figure size 432x288 with 1 Axes>"
      ]
     },
     "metadata": {
      "needs_background": "light"
     },
     "output_type": "display_data"
    }
   ],
   "source": [
    "traceWalk((UsualDrunk, ColdDrunk, EWDrunk), 500)"
   ]
  },
  {
   "cell_type": "code",
   "execution_count": null,
   "metadata": {},
   "outputs": [],
   "source": []
  }
 ],
 "metadata": {
  "kernelspec": {
   "display_name": "base",
   "language": "python",
   "name": "python3"
  },
  "language_info": {
   "codemirror_mode": {
    "name": "ipython",
    "version": 3
   },
   "file_extension": ".py",
   "mimetype": "text/x-python",
   "name": "python",
   "nbconvert_exporter": "python",
   "pygments_lexer": "ipython3",
   "version": "3.9.7"
  }
 },
 "nbformat": 4,
 "nbformat_minor": 2
}
