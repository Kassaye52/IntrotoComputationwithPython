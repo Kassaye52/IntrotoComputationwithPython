{
 "cells": [
  {
   "cell_type": "code",
   "execution_count": 2,
   "metadata": {},
   "outputs": [
    {
     "name": "stdout",
     "output_type": "stream",
     "text": [
      "Yankees rule\n",
      "But not in Boston!\n",
      "Yankees rule, but not in Boston!\n"
     ]
    }
   ],
   "source": [
    "# 2.1 The Basic Elements of Python\n",
    "print(\"Yankees rule\")\n",
    "print('But not in Boston!')\n",
    "print('Yankees rule,', 'but not in Boston!')"
   ]
  },
  {
   "cell_type": "markdown",
   "metadata": {},
   "source": [
    "### 2.1.1 Objects, Expressions, and Numerical Types"
   ]
  },
  {
   "cell_type": "code",
   "execution_count": 10,
   "metadata": {},
   "outputs": [
    {
     "name": "stdout",
     "output_type": "stream",
     "text": [
      "Odd\n",
      "Done with the Coditional!\n"
     ]
    }
   ],
   "source": [
    "if x % 2 == 0:\n",
    "    print(\"Even\")\n",
    "else:\n",
    "    print(\"Odd\")\n",
    "print(\"Done with the Coditional!\")"
   ]
  },
  {
   "cell_type": "code",
   "execution_count": 11,
   "metadata": {},
   "outputs": [],
   "source": [
    "if x%2 == 0:\n",
    "    if x%3==0:\n",
    "        print(\"Divisible by 2 and 3\")\n",
    "    else:\n",
    "        print(\"Divisible by 2 not by 3\")\n",
    "elif x %3 == 0:\n",
    "    print(\"Divisible by 3 not by 2\")"
   ]
  },
  {
   "cell_type": "code",
   "execution_count": 13,
   "metadata": {},
   "outputs": [
    {
     "name": "stdout",
     "output_type": "stream",
     "text": [
      "x is least\n"
     ]
    }
   ],
   "source": [
    "# Example definitions\n",
    "x = 1\n",
    "y = 2\n",
    "z = 3\n",
    "\n",
    "if x < y and x < z:\n",
    "    print(\"x is least\")\n",
    "elif y < z:\n",
    "    print(\"y is least\")\n",
    "else:\n",
    "    print(\"z is least\")"
   ]
  },
  {
   "cell_type": "markdown",
   "metadata": {},
   "source": [
    "#### 2.3 Strings and Input"
   ]
  },
  {
   "cell_type": "code",
   "execution_count": 14,
   "metadata": {},
   "outputs": [
    {
     "data": {
      "text/plain": [
       "'aa'"
      ]
     },
     "execution_count": 14,
     "metadata": {},
     "output_type": "execute_result"
    }
   ],
   "source": [
    "'a'\n",
    "3*4\n",
    "3*'a'\n",
    "3+4\n",
    "'a'+'a'"
   ]
  },
  {
   "cell_type": "code",
   "execution_count": 18,
   "metadata": {},
   "outputs": [
    {
     "name": "stdout",
     "output_type": "stream",
     "text": [
      "are you really Kassaye Belay?\n"
     ]
    }
   ],
   "source": [
    "name = input(\"Enter your name: \")\n",
    "print(\"are you really \" + name + '?')"
   ]
  },
  {
   "cell_type": "markdown",
   "metadata": {},
   "source": [
    "#### 2.4 Iteration"
   ]
  },
  {
   "cell_type": "code",
   "execution_count": 19,
   "metadata": {},
   "outputs": [
    {
     "name": "stdout",
     "output_type": "stream",
     "text": [
      "3*3 = 9\n"
     ]
    }
   ],
   "source": [
    "x = 3\n",
    "ans = 0\n",
    "itersLeft = x\n",
    "while (itersLeft != 0):\n",
    "    ans = ans + x\n",
    "    itersLeft = itersLeft -1\n",
    "print(str(x) + \"*\" + str(x) + ' = ' + str(ans))"
   ]
  },
  {
   "cell_type": "markdown",
   "metadata": {},
   "source": [
    "##### **Finger exercise:** Write a program that asks the user to input 10 integers, and then prints the largest odd number that was entered. If no odd number was entered, it should print a message to that effect."
   ]
  },
  {
   "cell_type": "code",
   "execution_count": 20,
   "metadata": {},
   "outputs": [
    {
     "name": "stdout",
     "output_type": "stream",
     "text": [
      "Please enter 10 integers:\n",
      "The largest odd number entered is: 25\n"
     ]
    }
   ],
   "source": [
    "# Initialize an empty list to store the integers\n",
    "numbers = []\n",
    "\n",
    "# Prompt the user to input 10 integers\n",
    "print(\"Please enter 10 integers:\")\n",
    "\n",
    "for i in range(10):\n",
    "    while True:\n",
    "        try:\n",
    "            num = int(input(f\"Enter integer {i+1}: \"))\n",
    "            numbers.append(num)  # Add the entered integer to the list\n",
    "            break  # Exit the loop after a valid input\n",
    "        except ValueError:\n",
    "            print(\"That's not an integer. Please enter an integer.\")  # Prompt for correct input on error\n",
    "\n",
    "# Filter the list to only include odd numbers\n",
    "odd_numbers = [num for num in numbers if num % 2 != 0]\n",
    "\n",
    "# Find the largest odd number if there is any\n",
    "if odd_numbers:  # Check if the list of odd numbers is not empty\n",
    "    largest_odd = max(odd_numbers)\n",
    "    print(f\"The largest odd number entered is: {largest_odd}\")\n",
    "else:\n",
    "    print(\"No odd number was entered.\")"
   ]
  },
  {
   "cell_type": "code",
   "execution_count": 4,
   "metadata": {},
   "outputs": [
    {
     "name": "stdout",
     "output_type": "stream",
     "text": [
      "low = 0.0 high = 25 ans = 12.5\n",
      "low = 0.0 high = 12.5 ans = 6.25\n",
      "low = 0.0 high = 6.25 ans = 3.125\n",
      "low = 3.125 high = 6.25 ans = 4.6875\n",
      "low = 4.6875 high = 6.25 ans = 5.46875\n",
      "low = 4.6875 high = 5.46875 ans = 5.078125\n",
      "low = 4.6875 high = 5.078125 ans = 4.8828125\n",
      "low = 4.8828125 high = 5.078125 ans = 4.98046875\n",
      "low = 4.98046875 high = 5.078125 ans = 5.029296875\n",
      "low = 4.98046875 high = 5.029296875 ans = 5.0048828125\n",
      "low = 4.98046875 high = 5.0048828125 ans = 4.99267578125\n",
      "low = 4.99267578125 high = 5.0048828125 ans = 4.998779296875\n",
      "low = 4.998779296875 high = 5.0048828125 ans = 5.0018310546875\n",
      "numGuesses = 13\n",
      "5.00030517578125 is close to square root of 25\n"
     ]
    }
   ],
   "source": [
    "x = 25\n",
    "epsilon = 0.01\n",
    "numGuesses = 0\n",
    "low = 0.0\n",
    "high = max(1.0, x)\n",
    "ans = (high + low)/2.0\n",
    "while abs(ans**2 - x) >= epsilon:\n",
    "    print('low =', low, 'high =', high, 'ans =', ans)\n",
    "    numGuesses += 1\n",
    "    if ans**2 < x:\n",
    "        low = ans\n",
    "    else:\n",
    "        high = ans\n",
    "    ans = (high + low)/2.0\n",
    "print('numGuesses =', numGuesses)\n",
    "print(ans, 'is close to square root of', x)"
   ]
  },
  {
   "cell_type": "code",
   "execution_count": 7,
   "metadata": {},
   "outputs": [],
   "source": [
    "from typing import List\n",
    "\n",
    "class Solution:\n",
    "    def modifiedMatrix(self, matrix: List[List[int]]) -> List[List[int]]:\n",
    "        # Step 1: Initialize the answer matrix with the same dimensions as the input matrix\n",
    "        m, n = len(matrix), len(matrix[0])\n",
    "        answer = [[matrix[i][j] for j in range(n)] for i in range(m)]\n",
    "\n",
    "        # Step 2: Find the maximum value in each column, ignoring -1\n",
    "        max_in_column = [max(row[j] for row in matrix if row[j] != -1) for j in range(n)]\n",
    "        \n",
    "        # Step 3: Replace -1 in the answer matrix with the maximum value found in its column\n",
    "        for i in range(m):\n",
    "            for j in range(n):\n",
    "                if answer[i][j] == -1:\n",
    "                    answer[i][j] = max_in_column[j]\n",
    "                    \n",
    "        return answer\n",
    "\n",
    "\n"
   ]
  },
  {
   "cell_type": "code",
   "execution_count": 8,
   "metadata": {},
   "outputs": [
    {
     "name": "stdout",
     "output_type": "stream",
     "text": [
      "[7, 20, 3]\n",
      "[4, 20, 6]\n",
      "[7, 8, 6]\n"
     ]
    }
   ],
   "source": [
    "\n",
    "# Example usage\n",
    "sol = Solution()\n",
    "matrix = [\n",
    "    [-1, 20, 3],\n",
    "    [4, -1, 6],\n",
    "    [7, 8, -1]\n",
    "]\n",
    "modified = sol.modifiedMatrix(matrix)\n",
    "for row in modified:\n",
    "    print(row)"
   ]
  }
 ],
 "metadata": {
  "kernelspec": {
   "display_name": "base",
   "language": "python",
   "name": "python3"
  },
  "language_info": {
   "codemirror_mode": {
    "name": "ipython",
    "version": 3
   },
   "file_extension": ".py",
   "mimetype": "text/x-python",
   "name": "python",
   "nbconvert_exporter": "python",
   "pygments_lexer": "ipython3",
   "version": "3.9.7"
  }
 },
 "nbformat": 4,
 "nbformat_minor": 2
}
