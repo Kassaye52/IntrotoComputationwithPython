{
 "cells": [
  {
   "cell_type": "markdown",
   "metadata": {},
   "source": [
    "### 10. SOME SIMPLE ALGORITHMS AND DATA STRUCTURES"
   ]
  },
  {
   "cell_type": "markdown",
   "metadata": {},
   "source": [
    "##### 10.1. Search Algorithms"
   ]
  },
  {
   "cell_type": "code",
   "execution_count": 1,
   "metadata": {},
   "outputs": [],
   "source": [
    "def search(L, e):\n",
    "    \"\"\"Assumes L is a list.\n",
    "    Returns True if e is in L and False otherwise\"\"\"\n",
    "    for i in range(len(L)):\n",
    "        if L[i] == e:\n",
    "            return True\n",
    "        else:\n",
    "            return False"
   ]
  },
  {
   "cell_type": "code",
   "execution_count": 2,
   "metadata": {},
   "outputs": [],
   "source": [
    "def search(L, e):\n",
    "    \"\"\"Assumes L is a list.\n",
    "    Returns True if e is in L and False otherwise\"\"\"\n",
    "    for i in range(len(L)):\n",
    "        if L[i] == e:\n",
    "            return True\n",
    "        if L[i] > e:\n",
    "            return False\n",
    "    return False\n"
   ]
  },
  {
   "cell_type": "code",
   "execution_count": 3,
   "metadata": {},
   "outputs": [],
   "source": [
    "def search(L, e):\n",
    "    \"\"\"Assumes L is a list, the elements of which are in\n",
    "    ascending order.\n",
    "    Returns True if e is in L and False otherwise\"\"\"\n",
    "    def bSearch(L, e, low, high):\n",
    "        #Decrements high - low\n",
    "        if high == low:\n",
    "            return L[low] == e\n",
    "            mid = (low + high)//2\n",
    "        if L[mid] == e:\n",
    "            return True\n",
    "        elif L[mid] > e:\n",
    "            if low == mid: #nothing left to search\n",
    "                return False\n",
    "            else:\n",
    "                return bSearch(L, e, low, mid - 1)\n",
    "        else:\n",
    "            return bSearch(L, e, mid + 1, high)\n",
    "    if len(L) == 0:\n",
    "        return False\n",
    "    else:\n",
    "        return bSearch(L, e, 0, len(L) - 1)"
   ]
  },
  {
   "cell_type": "markdown",
   "metadata": {},
   "source": [
    "#### 10.2. Sorting Algorithms"
   ]
  },
  {
   "cell_type": "code",
   "execution_count": 5,
   "metadata": {},
   "outputs": [],
   "source": [
    "def selSort(L):\n",
    "    \"\"\"Assumes that L is a list of elements that can be\n",
    "    compared using >.\n",
    "    Sorts L in ascending order\"\"\"\n",
    "    suffixStart = 0\n",
    "    while suffixStart != len(L):\n",
    "        #look at each element in suffix\n",
    "        for i in range(suffixStart, len(L)):\n",
    "            if L[i] < L[suffixStart]:\n",
    "            #swap position of elements\n",
    "                L[suffixStart], L[i] = L[i], L[suffixStart]\n",
    "        suffixStart += 1"
   ]
  }
 ],
 "metadata": {
  "kernelspec": {
   "display_name": "base",
   "language": "python",
   "name": "python3"
  },
  "language_info": {
   "codemirror_mode": {
    "name": "ipython",
    "version": 3
   },
   "file_extension": ".py",
   "mimetype": "text/x-python",
   "name": "python",
   "nbconvert_exporter": "python",
   "pygments_lexer": "ipython3",
   "version": "3.9.7"
  }
 },
 "nbformat": 4,
 "nbformat_minor": 2
}
