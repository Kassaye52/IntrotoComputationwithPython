{
 "cells": [
  {
   "cell_type": "markdown",
   "metadata": {},
   "source": [
    "### 10. SOME SIMPLE ALGORITHMS AND DATA STRUCTURES"
   ]
  },
  {
   "cell_type": "markdown",
   "metadata": {},
   "source": [
    "##### 10.1. Search Algorithms"
   ]
  },
  {
   "cell_type": "code",
   "execution_count": 1,
   "metadata": {},
   "outputs": [],
   "source": [
    "def search(L, e):\n",
    "    \"\"\"Assumes L is a list.\n",
    "    Returns True if e is in L and False otherwise\"\"\"\n",
    "    for i in range(len(L)):\n",
    "        if L[i] == e:\n",
    "            return True\n",
    "        else:\n",
    "            return False"
   ]
  },
  {
   "cell_type": "code",
   "execution_count": 2,
   "metadata": {},
   "outputs": [],
   "source": [
    "def search(L, e):\n",
    "    \"\"\"Assumes L is a list.\n",
    "    Returns True if e is in L and False otherwise\"\"\"\n",
    "    for i in range(len(L)):\n",
    "        if L[i] == e:\n",
    "            return True\n",
    "        if L[i] > e:\n",
    "            return False\n",
    "    return False\n"
   ]
  },
  {
   "cell_type": "code",
   "execution_count": 3,
   "metadata": {},
   "outputs": [],
   "source": [
    "def search(L, e):\n",
    "    \"\"\"Assumes L is a list, the elements of which are in\n",
    "    ascending order.\n",
    "    Returns True if e is in L and False otherwise\"\"\"\n",
    "    def bSearch(L, e, low, high):\n",
    "        #Decrements high - low\n",
    "        if high == low:\n",
    "            return L[low] == e\n",
    "            mid = (low + high)//2\n",
    "        if L[mid] == e:\n",
    "            return True\n",
    "        elif L[mid] > e:\n",
    "            if low == mid: #nothing left to search\n",
    "                return False\n",
    "            else:\n",
    "                return bSearch(L, e, low, mid - 1)\n",
    "        else:\n",
    "            return bSearch(L, e, mid + 1, high)\n",
    "    if len(L) == 0:\n",
    "        return False\n",
    "    else:\n",
    "        return bSearch(L, e, 0, len(L) - 1)"
   ]
  },
  {
   "cell_type": "markdown",
   "metadata": {},
   "source": [
    "#### 10.2. Sorting Algorithms"
   ]
  },
  {
   "cell_type": "code",
   "execution_count": 5,
   "metadata": {},
   "outputs": [],
   "source": [
    "def selSort(L):\n",
    "    \"\"\"Assumes that L is a list of elements that can be\n",
    "    compared using >.\n",
    "    Sorts L in ascending order\"\"\"\n",
    "    suffixStart = 0\n",
    "    while suffixStart != len(L):\n",
    "        #look at each element in suffix\n",
    "        for i in range(suffixStart, len(L)):\n",
    "            if L[i] < L[suffixStart]:\n",
    "            #swap position of elements\n",
    "                L[suffixStart], L[i] = L[i], L[suffixStart]\n",
    "        suffixStart += 1"
   ]
  },
  {
   "cell_type": "code",
   "execution_count": 1,
   "metadata": {},
   "outputs": [],
   "source": [
    "def merge(left, right, compare):\n",
    "    \"\"\"Assumes left and right are sorted lists and\n",
    "    compare defines an ordering on the elements.\n",
    "    Returns a new sorted (by compare) list containing the\n",
    "    same elements as (left + right) would contain.\"\"\"\n",
    "    result = []\n",
    "    i,j = 0, 0\n",
    "    while i < len(left) and j < len(right):\n",
    "        if compare(left[i], right[j]):\n",
    "            result.append(left[i])\n",
    "            i += 1\n",
    "        else:\n",
    "            result.append(right[j])\n",
    "            j += 1\n",
    "    while (i < len(left)):\n",
    "        result.append(left[i])\n",
    "        i += 1\n",
    "    while (j < len(right)):\n",
    "        result.append(right[j])\n",
    "        j += 1\n",
    "    return result\n",
    "\n",
    "import operator\n",
    "def mergeSort(L, compare = operator.lt):\n",
    "    \"\"\"Assumes L is a list, compare defines an ordering\n",
    "    on elements of L\n",
    "    Returns a new sorted list containing the same elements as L\"\"\"\n",
    "    if len(L) < 2:\n",
    "        return L[:]\n",
    "    else:\n",
    "        middle = len(L)//2\n",
    "        left = mergeSort(L[:middle], compare)\n",
    "        right = mergeSort(L[middle:], compare)\n",
    "        return merge(left, right, compare)"
   ]
  },
  {
   "cell_type": "code",
   "execution_count": 5,
   "metadata": {},
   "outputs": [],
   "source": [
    "def lastNameFirstName(name1, name2):\n",
    "    #import string\n",
    "    name1 = name1.split(name1, ' ')\n",
    "    name2 = name2.split(name2, ' ')\n",
    "    if name1[1] != name2[1]:\n",
    "        return name1[1] < name2[1]\n",
    "    else: #last names the same, sort by first name\n",
    "        return name1[0] < name2[0]\n",
    "\n",
    "def firstNameLastName(name1, name2):\n",
    "    #import string\n",
    "    name1 = name1.split(name1, ' ')\n",
    "    name2 = name2.split(name2, ' ')\n",
    "    if name1[0] != name2[0]:\n",
    "        return name1[0] < name2[0]\n",
    "    else: #first names the same, sort by last name\n",
    "        return name1[1] < name2[1]\n",
    "    \n",
    "    "
   ]
  },
  {
   "cell_type": "code",
   "execution_count": 7,
   "metadata": {},
   "outputs": [],
   "source": [
    "def lastNameFirstName(name1, name2):\n",
    "    # Splitting directly on the string objects, not using 'string' module\n",
    "    name1_parts = name1.split(' ')\n",
    "    name2_parts = name2.split(' ')\n",
    "    # Compare last names\n",
    "    if name1_parts[-1] != name2_parts[-1]:\n",
    "        return name1_parts[-1] < name2_parts[-1]\n",
    "    else:  # Last names the same, sort by first name\n",
    "        return name1_parts[0] < name2_parts[0]\n",
    "\n",
    "def firstNameLastName(name1, name2):\n",
    "    # Splitting directly on the string objects, not using 'string' module\n",
    "    name1_parts = name1.split(' ')\n",
    "    name2_parts = name2.split(' ')\n",
    "    # Compare first names\n",
    "    if name1_parts[0] != name2_parts[0]:\n",
    "        return name1_parts[0] < name2_parts[0]\n",
    "    else:  # First names the same, sort by last name\n",
    "        return name1_parts[-1] < name2_parts[-1]\n"
   ]
  },
  {
   "cell_type": "code",
   "execution_count": 8,
   "metadata": {},
   "outputs": [
    {
     "name": "stdout",
     "output_type": "stream",
     "text": [
      "Sorted by last name = ['Tom Brady', 'Gisele Bundchen', 'Eric Grimson', 'Chris Terman']\n",
      "Sorted by first name = ['Chris Terman', 'Eric Grimson', 'Gisele Bundchen', 'Tom Brady']\n"
     ]
    }
   ],
   "source": [
    "L = ['Chris Terman', 'Tom Brady', 'Eric Grimson', 'Gisele Bundchen']\n",
    "newL = mergeSort(L, lastNameFirstName)\n",
    "print('Sorted by last name =', newL)\n",
    "newL = mergeSort(L, firstNameLastName)\n",
    "print('Sorted by first name =', newL)"
   ]
  },
  {
   "cell_type": "code",
   "execution_count": 9,
   "metadata": {},
   "outputs": [
    {
     "name": "stdout",
     "output_type": "stream",
     "text": [
      "[2, 3, 5]\n",
      "[3, 5, 2]\n",
      "[2, 3, 5]\n",
      "['a', 'b', 'c']\n"
     ]
    },
    {
     "ename": "AttributeError",
     "evalue": "'dict' object has no attribute 'sort'",
     "output_type": "error",
     "traceback": [
      "\u001b[0;31m---------------------------------------------------------------------------\u001b[0m",
      "\u001b[0;31mAttributeError\u001b[0m                            Traceback (most recent call last)",
      "\u001b[0;32m/var/folders/76/xs74b8wd5y1d4jslcyz534sh0000gn/T/ipykernel_25761/1864467507.py\u001b[0m in \u001b[0;36m<module>\u001b[0;34m\u001b[0m\n\u001b[1;32m      6\u001b[0m \u001b[0mprint\u001b[0m\u001b[0;34m(\u001b[0m\u001b[0mL\u001b[0m\u001b[0;34m)\u001b[0m\u001b[0;34m\u001b[0m\u001b[0;34m\u001b[0m\u001b[0m\n\u001b[1;32m      7\u001b[0m \u001b[0mprint\u001b[0m\u001b[0;34m(\u001b[0m\u001b[0msorted\u001b[0m\u001b[0;34m(\u001b[0m\u001b[0mD\u001b[0m\u001b[0;34m)\u001b[0m\u001b[0;34m)\u001b[0m\u001b[0;34m\u001b[0m\u001b[0;34m\u001b[0m\u001b[0m\n\u001b[0;32m----> 8\u001b[0;31m \u001b[0mD\u001b[0m\u001b[0;34m.\u001b[0m\u001b[0msort\u001b[0m\u001b[0;34m(\u001b[0m\u001b[0;34m)\u001b[0m\u001b[0;34m\u001b[0m\u001b[0;34m\u001b[0m\u001b[0m\n\u001b[0m",
      "\u001b[0;31mAttributeError\u001b[0m: 'dict' object has no attribute 'sort'"
     ]
    }
   ],
   "source": [
    "L = [3,5,2]\n",
    "D = {'a':12, 'c':5, 'b':'dog'}\n",
    "print(sorted(L))\n",
    "print(L)\n",
    "L.sort()\n",
    "print(L)\n",
    "print(sorted(D))\n",
    "D.sort()"
   ]
  },
  {
   "cell_type": "code",
   "execution_count": 20,
   "metadata": {},
   "outputs": [],
   "source": [
    "class intDict(object):\n",
    "    \"\"\"A dictionary with integer keys\"\"\"\n",
    "    def __init__(self, numBuckets):\n",
    "        \"\"\"Create an empty dictionary\"\"\"\n",
    "        self.buckets = []\n",
    "        self.numBuckets = numBuckets\n",
    "        for i in range(numBuckets):\n",
    "            self.buckets.append([])\n",
    "\n",
    "    def addEntry(self, dictKey, dictVal):\n",
    "        \"\"\"Assumes dictKey an int. Adds an entry.\"\"\"\n",
    "        hashBucket = self.buckets[dictKey%self.numBuckets]\n",
    "        for i in range(len(hashBucket)):\n",
    "            if hashBucket[i][0] == dictKey:\n",
    "                hashBucket[i] = (dictKey, dictVal)\n",
    "                return hashBucket.append((dictKey, dictVal))\n",
    "    def getValue(self, dictKey):\n",
    "        \"\"\"Assumes dictKey an int. Returns entry associated\n",
    "        with the key dictKey\"\"\"\n",
    "        hashBucket = self.buckets[dictKey%self.numBuckets]\n",
    "        for e in hashBucket:\n",
    "            if e[0] == dictKey:\n",
    "                return e[1]\n",
    "            return None\n",
    "        \n",
    "    def __str__(self):\n",
    "        result = '{'\n",
    "        for b in self.buckets:\n",
    "            for e in b:\n",
    "                result = result + str(e[0]) + ':' + str(e[1]) + ','\n",
    "            return result[:-1] + '}' #result[:-1] omits the last comma"
   ]
  },
  {
   "cell_type": "code",
   "execution_count": 21,
   "metadata": {},
   "outputs": [
    {
     "name": "stdout",
     "output_type": "stream",
     "text": [
      "The value of the intDict is:\n",
      "}\n",
      "\n",
      " The buckets are:\n",
      "  []\n",
      "  []\n",
      "  []\n",
      "  []\n",
      "  []\n",
      "  []\n",
      "  []\n",
      "  []\n",
      "  []\n",
      "  []\n",
      "  []\n",
      "  []\n",
      "  []\n",
      "  []\n",
      "  []\n",
      "  []\n",
      "  []\n",
      "  []\n",
      "  []\n",
      "  []\n",
      "  []\n",
      "  []\n",
      "  []\n",
      "  []\n",
      "  []\n",
      "  []\n",
      "  []\n",
      "  []\n",
      "  []\n"
     ]
    }
   ],
   "source": [
    "import random #a standard library module\n",
    "\n",
    "D = intDict(29)\n",
    "for i in range(20):\n",
    "#choose a random int between 0 and 10**5\n",
    "    key = random.randint(0, 10**5)\n",
    "D.addEntry(key, i)\n",
    "print('The value of the intDict is:')\n",
    "print(D)\n",
    "print('\\n', 'The buckets are:')\n",
    "for hashBucket in D.buckets:\n",
    "    #violates abstraction barrier\n",
    "    print(' ', hashBucket)"
   ]
  }
 ],
 "metadata": {
  "kernelspec": {
   "display_name": "base",
   "language": "python",
   "name": "python3"
  },
  "language_info": {
   "codemirror_mode": {
    "name": "ipython",
    "version": 3
   },
   "file_extension": ".py",
   "mimetype": "text/x-python",
   "name": "python",
   "nbconvert_exporter": "python",
   "pygments_lexer": "ipython3",
   "version": "3.9.7"
  }
 },
 "nbformat": 4,
 "nbformat_minor": 2
}
