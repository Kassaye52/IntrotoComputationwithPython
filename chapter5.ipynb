{
 "cells": [
  {
   "cell_type": "markdown",
   "metadata": {},
   "source": [
    "### 5. STRUCTURED TYPES, MUTABILITY, AND HIGHERORDER FUNCTIONS"
   ]
  },
  {
   "cell_type": "code",
   "execution_count": 1,
   "metadata": {},
   "outputs": [
    {
     "name": "stdout",
     "output_type": "stream",
     "text": [
      "()\n",
      "(1, 'two', 3)\n"
     ]
    }
   ],
   "source": [
    "# 5.1 Tuples\n",
    "t1 = ()\n",
    "t2 = (1, \"two\", 3)\n",
    "print(t1)\n",
    "print(t2)"
   ]
  },
  {
   "cell_type": "code",
   "execution_count": 2,
   "metadata": {},
   "outputs": [
    {
     "data": {
      "text/plain": [
       "'two'"
      ]
     },
     "execution_count": 2,
     "metadata": {},
     "output_type": "execute_result"
    }
   ],
   "source": [
    "t2[1]"
   ]
  },
  {
   "cell_type": "code",
   "execution_count": 7,
   "metadata": {},
   "outputs": [],
   "source": [
    "def findDivisors(n1, n2):\n",
    "    divisors = ()\n",
    "    for i in range(1, min(n1, n2) + 1):\n",
    "        if n1%i == 0 and n2%i == 0:\n",
    "            divisors = divisors + (i,)\n",
    "        return divisors"
   ]
  },
  {
   "cell_type": "code",
   "execution_count": 11,
   "metadata": {},
   "outputs": [
    {
     "name": "stdout",
     "output_type": "stream",
     "text": [
      "(1, 2, 4, 5, 10, 20)\n",
      "42\n"
     ]
    }
   ],
   "source": [
    "def findDivisors (n1, n2):\n",
    "    \"\"\"Assumes that n1 and n2 are positive ints\n",
    "    Returns a tuple containing all common divisors of n1 & n2\"\"\"\n",
    "    divisors = () #the empty tuple\n",
    "    for i in range(1, min (n1, n2) + 1):\n",
    "        if n1%i == 0 and n2%i == 0:\n",
    "            divisors = divisors + (i,)\n",
    "    return divisors\n",
    "\n",
    "divisors = findDivisors(20, 100)\n",
    "print(divisors)\n",
    "total = 0\n",
    "for d in divisors:\n",
    "    total += d\n",
    "print(total)"
   ]
  },
  {
   "cell_type": "code",
   "execution_count": 27,
   "metadata": {},
   "outputs": [],
   "source": [
    "d = []\n",
    "def fD(n1, n2):\n",
    "    for i in range(1, min(n1, n2) +1):\n",
    "        if n1%i == 0 and n2%i == 0:\n",
    "            d.append(i)\n",
    "    return d\n"
   ]
  },
  {
   "cell_type": "code",
   "execution_count": 28,
   "metadata": {},
   "outputs": [
    {
     "data": {
      "text/plain": [
       "[1, 2, 4, 5, 10, 20]"
      ]
     },
     "execution_count": 28,
     "metadata": {},
     "output_type": "execute_result"
    }
   ],
   "source": [
    "fD(20, 100)"
   ]
  },
  {
   "cell_type": "code",
   "execution_count": 32,
   "metadata": {},
   "outputs": [
    {
     "name": "stdout",
     "output_type": "stream",
     "text": [
      "42\n"
     ]
    }
   ],
   "source": [
    "d\n",
    "sum = 0\n",
    "for i in d:\n",
    "   sum += i\n",
    "print(sum)"
   ]
  },
  {
   "cell_type": "code",
   "execution_count": 34,
   "metadata": {},
   "outputs": [],
   "source": [
    "def findExtremeDivisors(n1, n2):\n",
    "    \"\"\"Assumes that n1 and n2 are positive ints\n",
    "    Returns a tuple containing the smallest common\n",
    "    divisor > 1 and the largest common divisor of n1\n",
    "    and n2\"\"\"\n",
    "    divisors = () #the empty tuple\n",
    "    minVal, maxVal = None, None\n",
    "    for i in range(2, min(n1, n2) + 1):\n",
    "        if n1%i == 0 and n2%i == 0:\n",
    "            if minVal == None or i < minVal:\n",
    "                 minVal = i\n",
    "            if maxVal == None or i > maxVal:\n",
    "                maxVal = i\n",
    "    return (minVal, maxVal)"
   ]
  },
  {
   "cell_type": "code",
   "execution_count": 36,
   "metadata": {},
   "outputs": [
    {
     "name": "stdout",
     "output_type": "stream",
     "text": [
      "2\n",
      "100\n"
     ]
    }
   ],
   "source": [
    "minDivisor, maxDivisor = findExtremeDivisors(100, 200)\n",
    "print(minDivisor)\n",
    "print(maxDivisor)"
   ]
  },
  {
   "cell_type": "code",
   "execution_count": 39,
   "metadata": {},
   "outputs": [],
   "source": [
    "L1 = [1,2,3]\n",
    "L2 = [4,5,6]\n",
    "L3 = L1 + L2"
   ]
  },
  {
   "cell_type": "code",
   "execution_count": 41,
   "metadata": {},
   "outputs": [
    {
     "data": {
      "text/plain": [
       "[1, 2, 3, 4, 5, 6]"
      ]
     },
     "execution_count": 41,
     "metadata": {},
     "output_type": "execute_result"
    }
   ],
   "source": [
    "L3"
   ]
  },
  {
   "cell_type": "code",
   "execution_count": 42,
   "metadata": {},
   "outputs": [],
   "source": [
    "L1.extend(L2)"
   ]
  },
  {
   "cell_type": "markdown",
   "metadata": {},
   "source": [
    "L.append(e) adds the object e to the end of L.\n",
    "L.count(e) returns the number of times that e occurs in L.\n",
    "L.insert(i, e) inserts the object e into L at index i.\n",
    "L.extend(L1) adds the items in list L1 to the end of L.\n",
    "L.remove(e) deletes the first occurrence of e from L.\n",
    "L.index(e) returns the index of the first occurrence of e in L. It raises an\n",
    "exception (see Chapter 7) if e is not in L.\n",
    "L.pop(i) removes and returns the item at index i in L. If i is omitted, it\n",
    "defaults to -1, to remove and return the last element of L.\n",
    "L.sort() sorts the elements of L in ascending order.\n",
    "L.reverse() reverses the order of the elements in L."
   ]
  },
  {
   "cell_type": "code",
   "execution_count": 44,
   "metadata": {},
   "outputs": [
    {
     "name": "stdout",
     "output_type": "stream",
     "text": [
      "[1, 4, 9, 16, 25, 36]\n"
     ]
    }
   ],
   "source": [
    "# 5.2.2 List Comprehension \n",
    "l = [x**2 for x in range(1,7)]\n",
    "print(l)"
   ]
  },
  {
   "cell_type": "code",
   "execution_count": 48,
   "metadata": {},
   "outputs": [
    {
     "name": "stdout",
     "output_type": "stream",
     "text": [
      "L = [1, -2, 3.33]\n",
      "Apply abs to each element of L.\n",
      "L = [1, 2, 3.33]\n",
      "Apply int to each element of [1, 2, 3.33]\n",
      "L = [1, 2, 3]\n",
      "Apply factorial to each element of [1, 2, 3]\n",
      "L = [1, 2, 3]\n",
      "Apply Fibonnaci to each element of [1, 2, 3]\n",
      "L = [1, 2, 3]\n"
     ]
    }
   ],
   "source": [
    "def applyToEach(L, f):\n",
    "    \"\"\"Assumes L is a list, f a function\n",
    "    Mutates L by replacing each element, e, of L by f(e)\"\"\"\n",
    "    for i in range(len(L)):\n",
    "        L[i] = f(L[i])\n",
    "\n",
    "L = [1, -2, 3.33]\n",
    "print('L =', L)\n",
    "print('Apply abs to each element of L.')\n",
    "applyToEach(L, abs)\n",
    "print('L =', L)\n",
    "print('Apply int to each element of', L)\n",
    "applyToEach(L, int)\n",
    "print('L =', L)\n",
    "print('Apply factorial to each element of', L)\n",
    "#applyToEach(L, factR)\n",
    "print('L =', L)\n",
    "print('Apply Fibonnaci to each element of', L)\n",
    "#applyToEach(L, fib)\n",
    "print('L =', L)"
   ]
  },
  {
   "cell_type": "code",
   "execution_count": 50,
   "metadata": {},
   "outputs": [
    {
     "name": "stdout",
     "output_type": "stream",
     "text": [
      "<map object at 0x7fa4788ce6d0>\n"
     ]
    },
    {
     "data": {
      "text/plain": [
       "<map at 0x7fa489463910>"
      ]
     },
     "execution_count": 50,
     "metadata": {},
     "output_type": "execute_result"
    }
   ],
   "source": [
    "L1 = [1, 28, 36]\n",
    "L2 = [2, 57, 9]\n",
    "print(map(min, L1, L2))\n"
   ]
  },
  {
   "cell_type": "code",
   "execution_count": 54,
   "metadata": {},
   "outputs": [
    {
     "name": "stdout",
     "output_type": "stream",
     "text": [
      "Je bois \"good\" rouge vin, et mange pain. \n",
      "I drink of wine red. \n"
     ]
    }
   ],
   "source": [
    " # 5.5. Dictionaries\n",
    "EtoF = {'bread':'pain', 'wine':'vin', 'with':'avec', 'I':'Je',\n",
    "'eat':'mange', 'drink':'bois', 'John':'Jean',\n",
    "'friends':'amis', 'and': 'et', 'of':'du','red':'rouge'}\n",
    "FtoE = {'pain':'bread', 'vin':'wine', 'avec':'with', 'Je':'I',\n",
    "'mange':'eat', 'bois':'drink', 'Jean':'John',\n",
    "'amis':'friends', 'et':'and', 'du':'of', 'rouge':'red'}\n",
    "dicts = {'English to French':EtoF, 'French to English':FtoE}\n",
    "\n",
    "def translateWord(word, dictionary):\n",
    "    if word in dictionary.keys():\n",
    "        return dictionary[word]\n",
    "    elif word != '':\n",
    "        return '\"' + word + '\"'\n",
    "    return word\n",
    "\n",
    "def translate(phrase, dicts, direction):\n",
    "    UCLetters = 'ABCDEFGHIJKLMNOPQRSTUVWXYZ'\n",
    "    LCLetters = 'abcdefghijklmnopqrstuvwxyz'\n",
    "    letters = UCLetters + LCLetters\n",
    "    dictionary = dicts[direction]\n",
    "    translation = ''\n",
    "    word = ''\n",
    "    for c in phrase:\n",
    "        if c in letters:\n",
    "            word = word + c\n",
    "        else:\n",
    "            translation = translation + translateWord(word, dictionary) + c\n",
    "            word = ''\n",
    "    return translation + ' ' + translateWord(word, dictionary)\n",
    "\n",
    "print(translate('I drink good red wine, and eat bread.', dicts,'English to French'))\n",
    "print(translate('Je bois du vin rouge.', dicts, 'French to English'))"
   ]
  }
 ],
 "metadata": {
  "kernelspec": {
   "display_name": "base",
   "language": "python",
   "name": "python3"
  },
  "language_info": {
   "codemirror_mode": {
    "name": "ipython",
    "version": 3
   },
   "file_extension": ".py",
   "mimetype": "text/x-python",
   "name": "python",
   "nbconvert_exporter": "python",
   "pygments_lexer": "ipython3",
   "version": "3.9.7"
  }
 },
 "nbformat": 4,
 "nbformat_minor": 2
}
